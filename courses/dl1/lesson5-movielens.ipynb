{
 "cells": [
  {
   "cell_type": "markdown",
   "metadata": {},
   "source": [
    "## Movielens"
   ]
  },
  {
   "cell_type": "code",
   "execution_count": null,
   "metadata": {},
   "outputs": [],
   "source": [
    "%reload_ext autoreload\n",
    "%autoreload 2\n",
    "%matplotlib inline\n",
    "\n",
    "from fastai.learner import *\n",
    "from fastai.column_data import *"
   ]
  },
  {
   "cell_type": "markdown",
   "metadata": {},
   "source": [
    "Data available from http://files.grouplens.org/datasets/movielens/ml-latest-small.zip"
   ]
  },
  {
   "cell_type": "code",
   "execution_count": null,
   "metadata": {},
   "outputs": [],
   "source": [
    "path='data/ml-latest-small/'"
   ]
  },
  {
   "cell_type": "markdown",
   "metadata": {},
   "source": [
    "We're working with the movielens data, which contains one rating per row, like this:"
   ]
  },
  {
   "cell_type": "code",
   "execution_count": 3,
   "metadata": {
    "collapsed": true,
    "hidden": true
   },
   "outputs": [
    {
     "data": {
      "text/html": [
       "<div>\n",
       "<style scoped>\n",
       "    .dataframe tbody tr th:only-of-type {\n",
       "        vertical-align: middle;\n",
       "    }\n",
       "\n",
       "    .dataframe tbody tr th {\n",
       "        vertical-align: top;\n",
       "    }\n",
       "\n",
       "    .dataframe thead th {\n",
       "        text-align: right;\n",
       "    }\n",
       "</style>\n",
       "<table border=\"1\" class=\"dataframe\">\n",
       "  <thead>\n",
       "    <tr style=\"text-align: right;\">\n",
       "      <th></th>\n",
       "      <th>userId</th>\n",
       "      <th>movieId</th>\n",
       "      <th>rating</th>\n",
       "      <th>timestamp</th>\n",
       "    </tr>\n",
       "  </thead>\n",
       "  <tbody>\n",
       "    <tr>\n",
       "      <th>0</th>\n",
       "      <td>1</td>\n",
       "      <td>31</td>\n",
       "      <td>2.5</td>\n",
       "      <td>1260759144</td>\n",
       "    </tr>\n",
       "    <tr>\n",
       "      <th>1</th>\n",
       "      <td>1</td>\n",
       "      <td>1029</td>\n",
       "      <td>3.0</td>\n",
       "      <td>1260759179</td>\n",
       "    </tr>\n",
       "    <tr>\n",
       "      <th>2</th>\n",
       "      <td>1</td>\n",
       "      <td>1061</td>\n",
       "      <td>3.0</td>\n",
       "      <td>1260759182</td>\n",
       "    </tr>\n",
       "    <tr>\n",
       "      <th>3</th>\n",
       "      <td>1</td>\n",
       "      <td>1129</td>\n",
       "      <td>2.0</td>\n",
       "      <td>1260759185</td>\n",
       "    </tr>\n",
       "    <tr>\n",
       "      <th>4</th>\n",
       "      <td>1</td>\n",
       "      <td>1172</td>\n",
       "      <td>4.0</td>\n",
       "      <td>1260759205</td>\n",
       "    </tr>\n",
       "  </tbody>\n",
       "</table>\n",
       "</div>"
      ],
      "text/plain": [
       "   userId  movieId  rating   timestamp\n",
       "0       1       31     2.5  1260759144\n",
       "1       1     1029     3.0  1260759179\n",
       "2       1     1061     3.0  1260759182\n",
       "3       1     1129     2.0  1260759185\n",
       "4       1     1172     4.0  1260759205"
      ]
     },
     "execution_count": null,
     "metadata": {},
     "output_type": "execute_result"
    }
   ],
   "source": [
    "ratings = pd.read_csv(path+'ratings.csv')\n",
    "ratings.head()"
   ]
  },
  {
   "cell_type": "markdown",
   "metadata": {},
   "source": [
    "Just for display purposes, let's read in the movie names too."
   ]
  },
  {
   "cell_type": "code",
   "execution_count": 4,
   "metadata": {
    "collapsed": true,
    "hidden": true
   },
   "outputs": [
    {
     "data": {
      "text/html": [
       "<div>\n",
       "<style scoped>\n",
       "    .dataframe tbody tr th:only-of-type {\n",
       "        vertical-align: middle;\n",
       "    }\n",
       "\n",
       "    .dataframe tbody tr th {\n",
       "        vertical-align: top;\n",
       "    }\n",
       "\n",
       "    .dataframe thead th {\n",
       "        text-align: right;\n",
       "    }\n",
       "</style>\n",
       "<table border=\"1\" class=\"dataframe\">\n",
       "  <thead>\n",
       "    <tr style=\"text-align: right;\">\n",
       "      <th></th>\n",
       "      <th>movieId</th>\n",
       "      <th>title</th>\n",
       "      <th>genres</th>\n",
       "    </tr>\n",
       "  </thead>\n",
       "  <tbody>\n",
       "    <tr>\n",
       "      <th>0</th>\n",
       "      <td>1</td>\n",
       "      <td>Toy Story (1995)</td>\n",
       "      <td>Adventure|Animation|Children|Comedy|Fantasy</td>\n",
       "    </tr>\n",
       "    <tr>\n",
       "      <th>1</th>\n",
       "      <td>2</td>\n",
       "      <td>Jumanji (1995)</td>\n",
       "      <td>Adventure|Children|Fantasy</td>\n",
       "    </tr>\n",
       "    <tr>\n",
       "      <th>2</th>\n",
       "      <td>3</td>\n",
       "      <td>Grumpier Old Men (1995)</td>\n",
       "      <td>Comedy|Romance</td>\n",
       "    </tr>\n",
       "    <tr>\n",
       "      <th>3</th>\n",
       "      <td>4</td>\n",
       "      <td>Waiting to Exhale (1995)</td>\n",
       "      <td>Comedy|Drama|Romance</td>\n",
       "    </tr>\n",
       "    <tr>\n",
       "      <th>4</th>\n",
       "      <td>5</td>\n",
       "      <td>Father of the Bride Part II (1995)</td>\n",
       "      <td>Comedy</td>\n",
       "    </tr>\n",
       "  </tbody>\n",
       "</table>\n",
       "</div>"
      ],
      "text/plain": [
       "   movieId                               title  \\\n",
       "0        1                    Toy Story (1995)   \n",
       "1        2                      Jumanji (1995)   \n",
       "2        3             Grumpier Old Men (1995)   \n",
       "3        4            Waiting to Exhale (1995)   \n",
       "4        5  Father of the Bride Part II (1995)   \n",
       "\n",
       "                                        genres  \n",
       "0  Adventure|Animation|Children|Comedy|Fantasy  \n",
       "1                   Adventure|Children|Fantasy  \n",
       "2                               Comedy|Romance  \n",
       "3                         Comedy|Drama|Romance  \n",
       "4                                       Comedy  "
      ]
     },
     "execution_count": null,
     "metadata": {},
     "output_type": "execute_result"
    }
   ],
   "source": [
    "movies = pd.read_csv(path+'movies.csv')\n",
    "movies.head()"
   ]
  },
  {
   "cell_type": "markdown",
   "metadata": {},
   "source": [
    "## Create subset for Excel"
   ]
  },
  {
   "cell_type": "markdown",
   "metadata": {},
   "source": [
    "We create a crosstab of the most popular movies and most movie-addicted users which we'll copy into Excel for creating a simple example. This isn't necessary for any of the modeling below however."
   ]
  },
  {
   "cell_type": "code",
   "execution_count": 5,
   "metadata": {
    "collapsed": true,
    "hidden": true
   },
   "outputs": [
    {
     "data": {
      "text/html": [
       "<div>\n",
       "<style scoped>\n",
       "    .dataframe tbody tr th:only-of-type {\n",
       "        vertical-align: middle;\n",
       "    }\n",
       "\n",
       "    .dataframe tbody tr th {\n",
       "        vertical-align: top;\n",
       "    }\n",
       "\n",
       "    .dataframe thead th {\n",
       "        text-align: right;\n",
       "    }\n",
       "</style>\n",
       "<table border=\"1\" class=\"dataframe\">\n",
       "  <thead>\n",
       "    <tr style=\"text-align: right;\">\n",
       "      <th>movieId</th>\n",
       "      <th>1</th>\n",
       "      <th>110</th>\n",
       "      <th>260</th>\n",
       "      <th>296</th>\n",
       "      <th>318</th>\n",
       "      <th>356</th>\n",
       "      <th>480</th>\n",
       "      <th>527</th>\n",
       "      <th>589</th>\n",
       "      <th>593</th>\n",
       "      <th>608</th>\n",
       "      <th>1196</th>\n",
       "      <th>1198</th>\n",
       "      <th>1270</th>\n",
       "      <th>2571</th>\n",
       "    </tr>\n",
       "    <tr>\n",
       "      <th>userId</th>\n",
       "      <th></th>\n",
       "      <th></th>\n",
       "      <th></th>\n",
       "      <th></th>\n",
       "      <th></th>\n",
       "      <th></th>\n",
       "      <th></th>\n",
       "      <th></th>\n",
       "      <th></th>\n",
       "      <th></th>\n",
       "      <th></th>\n",
       "      <th></th>\n",
       "      <th></th>\n",
       "      <th></th>\n",
       "      <th></th>\n",
       "    </tr>\n",
       "  </thead>\n",
       "  <tbody>\n",
       "    <tr>\n",
       "      <th>15</th>\n",
       "      <td>2.0</td>\n",
       "      <td>3.0</td>\n",
       "      <td>5.0</td>\n",
       "      <td>5.0</td>\n",
       "      <td>2.0</td>\n",
       "      <td>1.0</td>\n",
       "      <td>3.0</td>\n",
       "      <td>4.0</td>\n",
       "      <td>4.0</td>\n",
       "      <td>5.0</td>\n",
       "      <td>5.0</td>\n",
       "      <td>5.0</td>\n",
       "      <td>4.0</td>\n",
       "      <td>5.0</td>\n",
       "      <td>5.0</td>\n",
       "    </tr>\n",
       "    <tr>\n",
       "      <th>30</th>\n",
       "      <td>4.0</td>\n",
       "      <td>5.0</td>\n",
       "      <td>4.0</td>\n",
       "      <td>5.0</td>\n",
       "      <td>5.0</td>\n",
       "      <td>5.0</td>\n",
       "      <td>4.0</td>\n",
       "      <td>5.0</td>\n",
       "      <td>4.0</td>\n",
       "      <td>4.0</td>\n",
       "      <td>5.0</td>\n",
       "      <td>4.0</td>\n",
       "      <td>5.0</td>\n",
       "      <td>5.0</td>\n",
       "      <td>3.0</td>\n",
       "    </tr>\n",
       "    <tr>\n",
       "      <th>73</th>\n",
       "      <td>5.0</td>\n",
       "      <td>4.0</td>\n",
       "      <td>4.5</td>\n",
       "      <td>5.0</td>\n",
       "      <td>5.0</td>\n",
       "      <td>5.0</td>\n",
       "      <td>4.0</td>\n",
       "      <td>5.0</td>\n",
       "      <td>3.0</td>\n",
       "      <td>4.5</td>\n",
       "      <td>4.0</td>\n",
       "      <td>5.0</td>\n",
       "      <td>5.0</td>\n",
       "      <td>5.0</td>\n",
       "      <td>4.5</td>\n",
       "    </tr>\n",
       "    <tr>\n",
       "      <th>212</th>\n",
       "      <td>3.0</td>\n",
       "      <td>5.0</td>\n",
       "      <td>4.0</td>\n",
       "      <td>4.0</td>\n",
       "      <td>4.5</td>\n",
       "      <td>4.0</td>\n",
       "      <td>3.0</td>\n",
       "      <td>5.0</td>\n",
       "      <td>3.0</td>\n",
       "      <td>4.0</td>\n",
       "      <td>NaN</td>\n",
       "      <td>NaN</td>\n",
       "      <td>3.0</td>\n",
       "      <td>3.0</td>\n",
       "      <td>5.0</td>\n",
       "    </tr>\n",
       "    <tr>\n",
       "      <th>213</th>\n",
       "      <td>3.0</td>\n",
       "      <td>2.5</td>\n",
       "      <td>5.0</td>\n",
       "      <td>NaN</td>\n",
       "      <td>NaN</td>\n",
       "      <td>2.0</td>\n",
       "      <td>5.0</td>\n",
       "      <td>NaN</td>\n",
       "      <td>4.0</td>\n",
       "      <td>2.5</td>\n",
       "      <td>2.0</td>\n",
       "      <td>5.0</td>\n",
       "      <td>3.0</td>\n",
       "      <td>3.0</td>\n",
       "      <td>4.0</td>\n",
       "    </tr>\n",
       "    <tr>\n",
       "      <th>294</th>\n",
       "      <td>4.0</td>\n",
       "      <td>3.0</td>\n",
       "      <td>4.0</td>\n",
       "      <td>NaN</td>\n",
       "      <td>3.0</td>\n",
       "      <td>4.0</td>\n",
       "      <td>4.0</td>\n",
       "      <td>4.0</td>\n",
       "      <td>3.0</td>\n",
       "      <td>NaN</td>\n",
       "      <td>NaN</td>\n",
       "      <td>4.0</td>\n",
       "      <td>4.5</td>\n",
       "      <td>4.0</td>\n",
       "      <td>4.5</td>\n",
       "    </tr>\n",
       "    <tr>\n",
       "      <th>311</th>\n",
       "      <td>3.0</td>\n",
       "      <td>3.0</td>\n",
       "      <td>4.0</td>\n",
       "      <td>3.0</td>\n",
       "      <td>4.5</td>\n",
       "      <td>5.0</td>\n",
       "      <td>4.5</td>\n",
       "      <td>5.0</td>\n",
       "      <td>4.5</td>\n",
       "      <td>2.0</td>\n",
       "      <td>4.0</td>\n",
       "      <td>3.0</td>\n",
       "      <td>4.5</td>\n",
       "      <td>4.5</td>\n",
       "      <td>4.0</td>\n",
       "    </tr>\n",
       "    <tr>\n",
       "      <th>380</th>\n",
       "      <td>4.0</td>\n",
       "      <td>5.0</td>\n",
       "      <td>4.0</td>\n",
       "      <td>5.0</td>\n",
       "      <td>4.0</td>\n",
       "      <td>5.0</td>\n",
       "      <td>4.0</td>\n",
       "      <td>NaN</td>\n",
       "      <td>4.0</td>\n",
       "      <td>5.0</td>\n",
       "      <td>4.0</td>\n",
       "      <td>4.0</td>\n",
       "      <td>NaN</td>\n",
       "      <td>3.0</td>\n",
       "      <td>5.0</td>\n",
       "    </tr>\n",
       "    <tr>\n",
       "      <th>452</th>\n",
       "      <td>3.5</td>\n",
       "      <td>4.0</td>\n",
       "      <td>4.0</td>\n",
       "      <td>5.0</td>\n",
       "      <td>5.0</td>\n",
       "      <td>4.0</td>\n",
       "      <td>5.0</td>\n",
       "      <td>4.0</td>\n",
       "      <td>4.0</td>\n",
       "      <td>5.0</td>\n",
       "      <td>5.0</td>\n",
       "      <td>4.0</td>\n",
       "      <td>4.0</td>\n",
       "      <td>4.0</td>\n",
       "      <td>2.0</td>\n",
       "    </tr>\n",
       "    <tr>\n",
       "      <th>468</th>\n",
       "      <td>4.0</td>\n",
       "      <td>3.0</td>\n",
       "      <td>3.5</td>\n",
       "      <td>3.5</td>\n",
       "      <td>3.5</td>\n",
       "      <td>3.0</td>\n",
       "      <td>2.5</td>\n",
       "      <td>NaN</td>\n",
       "      <td>NaN</td>\n",
       "      <td>3.0</td>\n",
       "      <td>4.0</td>\n",
       "      <td>3.0</td>\n",
       "      <td>3.5</td>\n",
       "      <td>3.0</td>\n",
       "      <td>3.0</td>\n",
       "    </tr>\n",
       "    <tr>\n",
       "      <th>509</th>\n",
       "      <td>3.0</td>\n",
       "      <td>5.0</td>\n",
       "      <td>5.0</td>\n",
       "      <td>5.0</td>\n",
       "      <td>4.0</td>\n",
       "      <td>4.0</td>\n",
       "      <td>3.0</td>\n",
       "      <td>5.0</td>\n",
       "      <td>2.0</td>\n",
       "      <td>4.0</td>\n",
       "      <td>4.5</td>\n",
       "      <td>5.0</td>\n",
       "      <td>5.0</td>\n",
       "      <td>3.0</td>\n",
       "      <td>4.5</td>\n",
       "    </tr>\n",
       "    <tr>\n",
       "      <th>547</th>\n",
       "      <td>3.5</td>\n",
       "      <td>NaN</td>\n",
       "      <td>NaN</td>\n",
       "      <td>5.0</td>\n",
       "      <td>5.0</td>\n",
       "      <td>2.0</td>\n",
       "      <td>3.0</td>\n",
       "      <td>5.0</td>\n",
       "      <td>NaN</td>\n",
       "      <td>5.0</td>\n",
       "      <td>5.0</td>\n",
       "      <td>2.5</td>\n",
       "      <td>2.0</td>\n",
       "      <td>3.5</td>\n",
       "      <td>3.5</td>\n",
       "    </tr>\n",
       "    <tr>\n",
       "      <th>564</th>\n",
       "      <td>4.0</td>\n",
       "      <td>1.0</td>\n",
       "      <td>2.0</td>\n",
       "      <td>5.0</td>\n",
       "      <td>NaN</td>\n",
       "      <td>3.0</td>\n",
       "      <td>5.0</td>\n",
       "      <td>4.0</td>\n",
       "      <td>5.0</td>\n",
       "      <td>5.0</td>\n",
       "      <td>5.0</td>\n",
       "      <td>5.0</td>\n",
       "      <td>5.0</td>\n",
       "      <td>3.0</td>\n",
       "      <td>3.0</td>\n",
       "    </tr>\n",
       "    <tr>\n",
       "      <th>580</th>\n",
       "      <td>4.0</td>\n",
       "      <td>4.5</td>\n",
       "      <td>4.0</td>\n",
       "      <td>4.5</td>\n",
       "      <td>4.0</td>\n",
       "      <td>3.5</td>\n",
       "      <td>3.0</td>\n",
       "      <td>4.0</td>\n",
       "      <td>4.5</td>\n",
       "      <td>4.0</td>\n",
       "      <td>4.5</td>\n",
       "      <td>4.0</td>\n",
       "      <td>3.5</td>\n",
       "      <td>3.0</td>\n",
       "      <td>4.5</td>\n",
       "    </tr>\n",
       "    <tr>\n",
       "      <th>624</th>\n",
       "      <td>5.0</td>\n",
       "      <td>NaN</td>\n",
       "      <td>5.0</td>\n",
       "      <td>5.0</td>\n",
       "      <td>NaN</td>\n",
       "      <td>3.0</td>\n",
       "      <td>3.0</td>\n",
       "      <td>NaN</td>\n",
       "      <td>3.0</td>\n",
       "      <td>5.0</td>\n",
       "      <td>4.0</td>\n",
       "      <td>5.0</td>\n",
       "      <td>5.0</td>\n",
       "      <td>5.0</td>\n",
       "      <td>2.0</td>\n",
       "    </tr>\n",
       "  </tbody>\n",
       "</table>\n",
       "</div>"
      ],
      "text/plain": [
       "movieId  1     110   260   296   318   356   480   527   589   593   608   \\\n",
       "userId                                                                      \n",
       "15        2.0   3.0   5.0   5.0   2.0   1.0   3.0   4.0   4.0   5.0   5.0   \n",
       "30        4.0   5.0   4.0   5.0   5.0   5.0   4.0   5.0   4.0   4.0   5.0   \n",
       "73        5.0   4.0   4.5   5.0   5.0   5.0   4.0   5.0   3.0   4.5   4.0   \n",
       "212       3.0   5.0   4.0   4.0   4.5   4.0   3.0   5.0   3.0   4.0   NaN   \n",
       "213       3.0   2.5   5.0   NaN   NaN   2.0   5.0   NaN   4.0   2.5   2.0   \n",
       "294       4.0   3.0   4.0   NaN   3.0   4.0   4.0   4.0   3.0   NaN   NaN   \n",
       "311       3.0   3.0   4.0   3.0   4.5   5.0   4.5   5.0   4.5   2.0   4.0   \n",
       "380       4.0   5.0   4.0   5.0   4.0   5.0   4.0   NaN   4.0   5.0   4.0   \n",
       "452       3.5   4.0   4.0   5.0   5.0   4.0   5.0   4.0   4.0   5.0   5.0   \n",
       "468       4.0   3.0   3.5   3.5   3.5   3.0   2.5   NaN   NaN   3.0   4.0   \n",
       "509       3.0   5.0   5.0   5.0   4.0   4.0   3.0   5.0   2.0   4.0   4.5   \n",
       "547       3.5   NaN   NaN   5.0   5.0   2.0   3.0   5.0   NaN   5.0   5.0   \n",
       "564       4.0   1.0   2.0   5.0   NaN   3.0   5.0   4.0   5.0   5.0   5.0   \n",
       "580       4.0   4.5   4.0   4.5   4.0   3.5   3.0   4.0   4.5   4.0   4.5   \n",
       "624       5.0   NaN   5.0   5.0   NaN   3.0   3.0   NaN   3.0   5.0   4.0   \n",
       "\n",
       "movieId  1196  1198  1270  2571  \n",
       "userId                           \n",
       "15        5.0   4.0   5.0   5.0  \n",
       "30        4.0   5.0   5.0   3.0  \n",
       "73        5.0   5.0   5.0   4.5  \n",
       "212       NaN   3.0   3.0   5.0  \n",
       "213       5.0   3.0   3.0   4.0  \n",
       "294       4.0   4.5   4.0   4.5  \n",
       "311       3.0   4.5   4.5   4.0  \n",
       "380       4.0   NaN   3.0   5.0  \n",
       "452       4.0   4.0   4.0   2.0  \n",
       "468       3.0   3.5   3.0   3.0  \n",
       "509       5.0   5.0   3.0   4.5  \n",
       "547       2.5   2.0   3.5   3.5  \n",
       "564       5.0   5.0   3.0   3.0  \n",
       "580       4.0   3.5   3.0   4.5  \n",
       "624       5.0   5.0   5.0   2.0  "
      ]
     },
     "execution_count": null,
     "metadata": {},
     "output_type": "execute_result"
    }
   ],
   "source": [
    "g=ratings.groupby('userId')['rating'].count()\n",
    "topUsers=g.sort_values(ascending=False)[:15]\n",
    "\n",
    "g=ratings.groupby('movieId')['rating'].count()\n",
    "topMovies=g.sort_values(ascending=False)[:15]\n",
    "\n",
    "top_r = ratings.join(topUsers, rsuffix='_r', how='inner', on='userId')\n",
    "top_r = top_r.join(topMovies, rsuffix='_r', how='inner', on='movieId')\n",
    "\n",
    "pd.crosstab(top_r.userId, top_r.movieId, top_r.rating, aggfunc=np.sum)"
   ]
  },
  {
   "cell_type": "markdown",
   "metadata": {},
   "source": [
    "## Collaborative filtering"
   ]
  },
  {
   "cell_type": "code",
   "execution_count": 6,
   "metadata": {
    "collapsed": true,
    "hidden": true
   },
   "outputs": [],
   "source": [
    "val_idxs = get_cv_idxs(len(ratings))\n",
    "wd=2e-4\n",
    "n_factors = 50"
   ]
  },
  {
   "cell_type": "code",
   "execution_count": 7,
   "metadata": {
    "collapsed": true,
    "hidden": true
   },
   "outputs": [],
   "source": [
    "cf = CollabFilterDataset.from_csv(path, 'ratings.csv', 'userId', 'movieId', 'rating')\n",
    "learn = cf.get_learner(n_factors, val_idxs, 64, opt_fn=optim.Adam)"
   ]
  },
  {
   "cell_type": "code",
   "execution_count": 8,
   "metadata": {
    "collapsed": true,
    "hidden": true
   },
   "outputs": [
    {
     "data": {
      "application/vnd.jupyter.widget-view+json": {
       "model_id": "80125a15591b43d6ae748356b12f2188",
       "version_major": 2,
       "version_minor": 0
      },
      "text/html": [
       "<p>Failed to display Jupyter Widget of type <code>HBox</code>.</p>\n",
       "<p>\n",
       "  If you're reading this message in the Jupyter Notebook or JupyterLab Notebook, it may mean\n",
       "  that the widgets JavaScript is still loading. If this message persists, it\n",
       "  likely means that the widgets JavaScript library is either not installed or\n",
       "  not enabled. See the <a href=\"https://ipywidgets.readthedocs.io/en/stable/user_install.html\">Jupyter\n",
       "  Widgets Documentation</a> for setup instructions.\n",
       "</p>\n",
       "<p>\n",
       "  If you're reading this message in another frontend (for example, a static\n",
       "  rendering on GitHub or <a href=\"https://nbviewer.jupyter.org/\">NBViewer</a>),\n",
       "  it may mean that your frontend doesn't currently support widgets.\n",
       "</p>\n"
      ],
      "text/plain": [
       "HBox(children=(IntProgress(value=0, description='Epoch', max=3), HTML(value='')))"
      ]
     },
     "metadata": {},
     "output_type": "display_data"
    },
    {
     "name": "stdout",
     "output_type": "stream",
     "text": [
      "epoch      trn_loss   val_loss                                  \n",
      "    0      0.85567    0.810898  \n",
      "    1      0.813684   0.781082                                  \n",
      "    2      0.618421   0.767853                                  \n",
      "\n"
     ]
    },
    {
     "data": {
      "text/plain": [
       "[0.7678528]"
      ]
     },
     "execution_count": 8,
     "metadata": {},
     "output_type": "execute_result"
    }
   ],
   "source": [
    "learn.fit(1e-2, 2, wds=wd, cycle_len=1, cycle_mult=2)"
   ]
  },
  {
   "cell_type": "markdown",
   "metadata": {},
   "source": [
    "Let's compare to some benchmarks. Here's [some benchmarks](https://www.librec.net/release/v1.3/example.html) on the same dataset for the popular Librec system for collaborative filtering. They show best results based on [RMSE](http://www.statisticshowto.com/rmse/) of 0.91. We'll need to take the square root of our loss, since we use plain MSE."
   ]
  },
  {
   "cell_type": "code",
   "execution_count": 9,
   "metadata": {
    "hidden": true,
    "scrolled": true
   },
   "outputs": [
    {
     "data": {
      "text/plain": [
       "0.8809086218218096"
      ]
     },
     "execution_count": 9,
     "metadata": {},
     "output_type": "execute_result"
    }
   ],
   "source": [
    "math.sqrt(0.776)"
   ]
  },
  {
   "cell_type": "markdown",
   "metadata": {},
   "source": [
    "Looking good - we've found a solution better than any of those benchmarks! Let's take a look at how the predictions compare to actuals for this model."
   ]
  },
  {
   "cell_type": "code",
   "execution_count": 10,
   "metadata": {
    "collapsed": true,
    "hidden": true
   },
   "outputs": [],
   "source": [
    "preds = learn.predict()"
   ]
  },
  {
   "cell_type": "code",
   "execution_count": 11,
   "metadata": {
    "collapsed": true,
    "hidden": true
   },
   "outputs": [
    {
     "name": "stderr",
     "output_type": "stream",
     "text": [
      "/home/paperspace/anaconda3/envs/fastai/lib/python3.6/site-packages/matplotlib/axes/_axes.py:6448: UserWarning: The 'normed' kwarg is deprecated, and has been replaced by the 'density' kwarg.\n",
      "  warnings.warn(\"The 'normed' kwarg is deprecated, and has been \"\n"
     ]
    },
    {
     "data": {
      "image/png": "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\n",
      "text/plain": [
       "<Figure size 432x432 with 3 Axes>"
      ]
     },
     "metadata": {},
     "output_type": "display_data"
    }
   ],
   "source": [
    "y=learn.data.val_y\n",
    "sns.jointplot(preds, y, kind='hex', stat_func=None);"
   ]
  },
  {
   "cell_type": "markdown",
   "metadata": {},
   "source": [
    "## Analyze results"
   ]
  },
  {
   "cell_type": "markdown",
   "metadata": {},
   "source": [
    "### Movie bias"
   ]
  },
  {
   "cell_type": "code",
   "execution_count": 34,
   "metadata": {
    "collapsed": true,
    "hidden": true
   },
   "outputs": [],
   "source": [
    "movie_names = movies.set_index('movieId')['title'].to_dict()\n",
    "g=ratings.groupby('movieId')['rating'].count()\n",
    "topMovies=g.sort_values(ascending=False).index.values[:3000]\n",
    "topMovieIdx = np.array([cf.item2idx[o] for o in topMovies])"
   ]
  },
  {
   "cell_type": "code",
   "execution_count": 35,
   "metadata": {
    "hidden": true
   },
   "outputs": [
    {
     "data": {
      "text/plain": [
       "EmbeddingDotBias(\n",
       "  (u): Embedding(671, 50)\n",
       "  (i): Embedding(9066, 50)\n",
       "  (ub): Embedding(671, 1)\n",
       "  (ib): Embedding(9066, 1)\n",
       ")"
      ]
     },
     "execution_count": 35,
     "metadata": {},
     "output_type": "execute_result"
    }
   ],
   "source": [
    "m=learn.model; m.cuda()"
   ]
  },
  {
   "cell_type": "markdown",
   "metadata": {},
   "source": [
    "First, we'll look at the movie bias term. Here, our input is the movie id (a single id), and the output is the movie bias (a single float)."
   ]
  },
  {
   "cell_type": "code",
   "execution_count": 36,
   "metadata": {
    "collapsed": true,
    "hidden": true
   },
   "outputs": [],
   "source": [
    "movie_bias = to_np(m.ib(V(topMovieIdx)))"
   ]
  },
  {
   "cell_type": "code",
   "execution_count": 37,
   "metadata": {
    "hidden": true
   },
   "outputs": [
    {
     "data": {
      "text/plain": [
       "array([[0.8486 ],\n",
       "       [0.96109],\n",
       "       [1.29259],\n",
       "       ...,\n",
       "       [0.32229],\n",
       "       [0.02048],\n",
       "       [0.18921]], dtype=float32)"
      ]
     },
     "execution_count": 37,
     "metadata": {},
     "output_type": "execute_result"
    }
   ],
   "source": [
    "movie_bias"
   ]
  },
  {
   "cell_type": "code",
   "execution_count": 38,
   "metadata": {
    "collapsed": true,
    "hidden": true
   },
   "outputs": [],
   "source": [
    "movie_ratings = [(b[0], movie_names[i]) for i,b in zip(topMovies,movie_bias)]"
   ]
  },
  {
   "cell_type": "markdown",
   "metadata": {},
   "source": [
    "Now we can look at the top and bottom rated movies. These ratings are corrected for different levels of reviewer sentiment, as well as different types of movies that different reviewers watch."
   ]
  },
  {
   "cell_type": "code",
   "execution_count": 39,
   "metadata": {
    "collapsed": true,
    "hidden": true
   },
   "outputs": [
    {
     "data": {
      "text/plain": [
       "[(-0.9313477, 'Battlefield Earth (2000)'),\n",
       " (-0.80504143, 'Speed 2: Cruise Control (1997)'),\n",
       " (-0.77381116, 'Wild Wild West (1999)'),\n",
       " (-0.765157, 'Anaconda (1997)'),\n",
       " (-0.7568379, 'Super Mario Bros. (1993)'),\n",
       " (-0.6921822, 'Congo (1995)'),\n",
       " (-0.6472817, 'Mighty Morphin Power Rangers: The Movie (1995)'),\n",
       " (-0.64671457, 'Superman III (1983)'),\n",
       " (-0.64530826, 'Batman & Robin (1997)'),\n",
       " (-0.6230441, 'Inspector Gadget (1999)'),\n",
       " (-0.6058446, 'Jaws 3-D (1983)'),\n",
       " (-0.5871887, 'Police Academy 4: Citizens on Patrol (1987)'),\n",
       " (-0.58668137, \"Joe's Apartment (1996)\"),\n",
       " (-0.5862847, 'Bio-Dome (1996)'),\n",
       " (-0.58294094, 'Flintstones, The (1994)')]"
      ]
     },
     "execution_count": 39,
     "metadata": {},
     "output_type": "execute_result"
    }
   ],
   "source": [
    "sorted(movie_ratings, key=lambda o: o[0])[:15]"
   ]
  },
  {
   "cell_type": "code",
   "execution_count": 40,
   "metadata": {
    "collapsed": true,
    "hidden": true
   },
   "outputs": [
    {
     "data": {
      "text/plain": [
       "[(-0.9313477, 'Battlefield Earth (2000)'),\n",
       " (-0.80504143, 'Speed 2: Cruise Control (1997)'),\n",
       " (-0.77381116, 'Wild Wild West (1999)'),\n",
       " (-0.765157, 'Anaconda (1997)'),\n",
       " (-0.7568379, 'Super Mario Bros. (1993)'),\n",
       " (-0.6921822, 'Congo (1995)'),\n",
       " (-0.6472817, 'Mighty Morphin Power Rangers: The Movie (1995)'),\n",
       " (-0.64671457, 'Superman III (1983)'),\n",
       " (-0.64530826, 'Batman & Robin (1997)'),\n",
       " (-0.6230441, 'Inspector Gadget (1999)'),\n",
       " (-0.6058446, 'Jaws 3-D (1983)'),\n",
       " (-0.5871887, 'Police Academy 4: Citizens on Patrol (1987)'),\n",
       " (-0.58668137, \"Joe's Apartment (1996)\"),\n",
       " (-0.5862847, 'Bio-Dome (1996)'),\n",
       " (-0.58294094, 'Flintstones, The (1994)')]"
      ]
     },
     "execution_count": 40,
     "metadata": {},
     "output_type": "execute_result"
    }
   ],
   "source": [
    "sorted(movie_ratings, key=itemgetter(0))[:15]"
   ]
  },
  {
   "cell_type": "code",
   "execution_count": 19,
   "metadata": {
    "collapsed": true,
    "hidden": true
   },
   "outputs": [
    {
     "data": {
      "text/plain": [
       "[(1.2925943, 'Shawshank Redemption, The (1994)'),\n",
       " (1.1661493, 'Godfather, The (1972)'),\n",
       " (1.111486, 'Usual Suspects, The (1995)'),\n",
       " (0.9906297, \"Schindler's List (1993)\"),\n",
       " (0.987689, 'Godfather: Part II, The (1974)'),\n",
       " (0.9610858, 'Pulp Fiction (1994)'),\n",
       " (0.94078535, '12 Angry Men (1957)'),\n",
       " (0.88973063, 'Silence of the Lambs, The (1991)'),\n",
       " (0.85586923, 'Star Wars: Episode IV - A New Hope (1977)'),\n",
       " (0.85104156, 'Princess Bride, The (1987)'),\n",
       " (0.84859926, 'Forrest Gump (1994)'),\n",
       " (0.84359384, 'Stand by Me (1986)'),\n",
       " (0.8363008, 'Fargo (1996)'),\n",
       " (0.8263425, 'Memento (2000)'),\n",
       " (0.82006806, 'To Kill a Mockingbird (1962)')]"
      ]
     },
     "execution_count": 19,
     "metadata": {},
     "output_type": "execute_result"
    }
   ],
   "source": [
    "sorted(movie_ratings, key=lambda o: o[0], reverse=True)[:15]"
   ]
  },
  {
   "cell_type": "markdown",
   "metadata": {},
   "source": [
    "### Embedding interpretation"
   ]
  },
  {
   "cell_type": "markdown",
   "metadata": {},
   "source": [
    "We can now do the same thing for the embeddings."
   ]
  },
  {
   "cell_type": "code",
   "execution_count": 20,
   "metadata": {
    "collapsed": true,
    "hidden": true
   },
   "outputs": [
    {
     "data": {
      "text/plain": [
       "(3000, 50)"
      ]
     },
     "execution_count": 20,
     "metadata": {},
     "output_type": "execute_result"
    }
   ],
   "source": [
    "movie_emb = to_np(m.i(V(topMovieIdx)))\n",
    "movie_emb.shape"
   ]
  },
  {
   "cell_type": "markdown",
   "metadata": {},
   "source": [
    "Because it's hard to interpret 50 embeddings, we use [PCA](https://plot.ly/ipython-notebooks/principal-component-analysis/) to simplify them down to just 3 vectors. "
   ]
  },
  {
   "cell_type": "code",
   "execution_count": 21,
   "metadata": {
    "collapsed": true,
    "hidden": true
   },
   "outputs": [],
   "source": [
    "from sklearn.decomposition import PCA\n",
    "pca = PCA(n_components=3)\n",
    "movie_pca = pca.fit(movie_emb.T).components_"
   ]
  },
  {
   "cell_type": "code",
   "execution_count": 22,
   "metadata": {
    "collapsed": true,
    "hidden": true
   },
   "outputs": [
    {
     "data": {
      "text/plain": [
       "(3, 3000)"
      ]
     },
     "execution_count": 22,
     "metadata": {},
     "output_type": "execute_result"
    }
   ],
   "source": [
    "movie_pca.shape"
   ]
  },
  {
   "cell_type": "code",
   "execution_count": 23,
   "metadata": {
    "collapsed": true,
    "hidden": true
   },
   "outputs": [],
   "source": [
    "fac0 = movie_pca[0]\n",
    "movie_comp = [(f, movie_names[i]) for f,i in zip(fac0, topMovies)]"
   ]
  },
  {
   "cell_type": "markdown",
   "metadata": {},
   "source": [
    "Here's the 1st component. It seems to be 'easy watching' vs 'serious'."
   ]
  },
  {
   "cell_type": "code",
   "execution_count": 24,
   "metadata": {
    "collapsed": true,
    "hidden": true
   },
   "outputs": [
    {
     "data": {
      "text/plain": [
       "[(0.067740194, 'Independence Day (a.k.a. ID4) (1996)'),\n",
       " (0.059154082, 'Police Academy 4: Citizens on Patrol (1987)'),\n",
       " (0.057379127, 'Armageddon (1998)'),\n",
       " (0.05577505, 'Lake Placid (1999)'),\n",
       " (0.053488735, 'Batman Forever (1995)'),\n",
       " (0.053458292, 'Miss Congeniality (2000)'),\n",
       " (0.052605595, 'Pearl Harbor (2001)'),\n",
       " (0.051471874, 'Lethal Weapon 4 (1998)'),\n",
       " (0.04920451, 'Ace Ventura: When Nature Calls (1995)'),\n",
       " (0.04832533, 'Police Academy 5: Assignment: Miami Beach (1988)')]"
      ]
     },
     "execution_count": 24,
     "metadata": {},
     "output_type": "execute_result"
    }
   ],
   "source": [
    "sorted(movie_comp, key=itemgetter(0), reverse=True)[:10]"
   ]
  },
  {
   "cell_type": "code",
   "execution_count": 25,
   "metadata": {
    "collapsed": true,
    "hidden": true
   },
   "outputs": [
    {
     "data": {
      "text/plain": [
       "[(-0.0715456, 'Fargo (1996)'),\n",
       " (-0.06859823, 'Pulp Fiction (1994)'),\n",
       " (-0.06788719, 'Being John Malkovich (1999)'),\n",
       " (-0.06689067, 'Kill Bill: Vol. 1 (2003)'),\n",
       " (-0.06588302, 'Chinatown (1974)'),\n",
       " (-0.06397359, 'Apocalypse Now (1979)'),\n",
       " (-0.06335448, 'Raging Bull (1980)'),\n",
       " (-0.06334185, 'Full Metal Jacket (1987)'),\n",
       " (-0.06231776, 'Goodfellas (1990)'),\n",
       " (-0.061686732, 'Godfather, The (1972)')]"
      ]
     },
     "execution_count": 25,
     "metadata": {},
     "output_type": "execute_result"
    }
   ],
   "source": [
    "sorted(movie_comp, key=itemgetter(0))[:10]"
   ]
  },
  {
   "cell_type": "code",
   "execution_count": 26,
   "metadata": {
    "collapsed": true,
    "hidden": true
   },
   "outputs": [],
   "source": [
    "fac1 = movie_pca[1]\n",
    "movie_comp = [(f, movie_names[i]) for f,i in zip(fac1, topMovies)]"
   ]
  },
  {
   "cell_type": "markdown",
   "metadata": {},
   "source": [
    "Here's the 2nd component. It seems to be 'CGI' vs 'dialog driven'."
   ]
  },
  {
   "cell_type": "code",
   "execution_count": 27,
   "metadata": {
    "collapsed": true,
    "hidden": true
   },
   "outputs": [
    {
     "data": {
      "text/plain": [
       "[(0.1295088, 'Lord of the Rings: The Return of the King, The (2003)'),\n",
       " (0.115288705, 'Star Wars: Episode IV - A New Hope (1977)'),\n",
       " (0.113012016, 'Lord of the Rings: The Two Towers, The (2002)'),\n",
       " (0.11255411, 'Lord of the Rings: The Fellowship of the Ring, The (2001)'),\n",
       " (0.107442826, 'Matrix, The (1999)'),\n",
       " (0.09734799, 'Shrek (2001)'),\n",
       " (0.096403405, 'Jurassic Park (1993)'),\n",
       " (0.09332477, 'Star Wars: Episode V - The Empire Strikes Back (1980)'),\n",
       " (0.09329888, 'Dark Knight, The (2008)'),\n",
       " (0.0923992, 'Star Wars: Episode VI - Return of the Jedi (1983)')]"
      ]
     },
     "execution_count": 27,
     "metadata": {},
     "output_type": "execute_result"
    }
   ],
   "source": [
    "sorted(movie_comp, key=itemgetter(0), reverse=True)[:10]"
   ]
  },
  {
   "cell_type": "code",
   "execution_count": 28,
   "metadata": {
    "hidden": true
   },
   "outputs": [
    {
     "data": {
      "text/plain": [
       "[(-0.045172594, 'Tank Girl (1995)'),\n",
       " (-0.044859923, 'Home Alone 2: Lost in New York (1992)'),\n",
       " (-0.043373067, '8 1/2 (8½) (1963)'),\n",
       " (-0.04334742, 'Death Becomes Her (1992)'),\n",
       " (-0.043235313, 'Doors, The (1991)'),\n",
       " (-0.041594353, 'Mimic (1997)'),\n",
       " (-0.040968116, 'Ed Wood (1994)'),\n",
       " (-0.039732777, 'Beverly Hillbillies, The (1993)'),\n",
       " (-0.039381564, 'Nosferatu (Nosferatu, eine Symphonie des Grauens) (1922)'),\n",
       " (-0.038353372, 'Lost Highway (1997)')]"
      ]
     },
     "execution_count": 28,
     "metadata": {},
     "output_type": "execute_result"
    }
   ],
   "source": [
    "sorted(movie_comp, key=itemgetter(0))[:10]"
   ]
  },
  {
   "cell_type": "markdown",
   "metadata": {},
   "source": [
    "We can draw a picture to see how various movies appear on the map of these components. This picture shows the first two components."
   ]
  },
  {
   "cell_type": "code",
   "execution_count": 29,
   "metadata": {
    "collapsed": true,
    "hidden": true
   },
   "outputs": [
    {
     "data": {
      "image/png": "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\n",
      "text/plain": [
       "<Figure size 1080x1080 with 1 Axes>"
      ]
     },
     "metadata": {},
     "output_type": "display_data"
    }
   ],
   "source": [
    "idxs = np.random.choice(len(topMovies), 50, replace=False)\n",
    "X = fac0[idxs]\n",
    "Y = fac1[idxs]\n",
    "plt.figure(figsize=(15,15))\n",
    "plt.scatter(X, Y)\n",
    "for i, x, y in zip(topMovies[idxs], X, Y):\n",
    "    plt.text(x,y,movie_names[i], color=np.random.rand(3)*0.7, fontsize=11)\n",
    "plt.show()"
   ]
  },
  {
   "cell_type": "markdown",
   "metadata": {},
   "source": [
    "## Collab filtering from scratch"
   ]
  },
  {
   "cell_type": "markdown",
   "metadata": {},
   "source": [
    "### Dot product example"
   ]
  },
  {
   "cell_type": "code",
   "execution_count": 7,
   "metadata": {
    "collapsed": true,
    "hidden": true
   },
   "outputs": [
    {
     "data": {
      "text/plain": [
       "(\n",
       "  1  2\n",
       "  3  4\n",
       " [torch.cuda.FloatTensor of size 2x2 (GPU 0)], \n",
       "   2   2\n",
       "  10  10\n",
       " [torch.cuda.FloatTensor of size 2x2 (GPU 0)])"
      ]
     },
     "execution_count": 7,
     "metadata": {},
     "output_type": "execute_result"
    }
   ],
   "source": [
    "a = T([[1.,2],[3,4]])\n",
    "b = T([[2.,2],[10,10]])\n",
    "a,b"
   ]
  },
  {
   "cell_type": "code",
   "execution_count": 8,
   "metadata": {
    "collapsed": true,
    "hidden": true
   },
   "outputs": [
    {
     "data": {
      "text/plain": [
       "\n",
       "  2   4\n",
       " 30  40\n",
       "[torch.cuda.FloatTensor of size 2x2 (GPU 0)]"
      ]
     },
     "execution_count": 8,
     "metadata": {},
     "output_type": "execute_result"
    }
   ],
   "source": [
    "a*b"
   ]
  },
  {
   "cell_type": "code",
   "execution_count": 9,
   "metadata": {
    "collapsed": true,
    "hidden": true
   },
   "outputs": [
    {
     "data": {
      "text/plain": [
       "\n",
       "  6\n",
       " 70\n",
       "[torch.cuda.FloatTensor of size 2 (GPU 0)]"
      ]
     },
     "execution_count": 9,
     "metadata": {},
     "output_type": "execute_result"
    }
   ],
   "source": [
    "(a*b).sum(1)"
   ]
  },
  {
   "cell_type": "code",
   "execution_count": 10,
   "metadata": {
    "collapsed": true,
    "hidden": true
   },
   "outputs": [],
   "source": [
    "class DotProduct(nn.Module):\n",
    "    def forward(self, u, m): return (u*m).sum(1)"
   ]
  },
  {
   "cell_type": "code",
   "execution_count": 11,
   "metadata": {
    "collapsed": true,
    "hidden": true
   },
   "outputs": [],
   "source": [
    "model=DotProduct()"
   ]
  },
  {
   "cell_type": "code",
   "execution_count": 12,
   "metadata": {
    "collapsed": true,
    "hidden": true
   },
   "outputs": [
    {
     "data": {
      "text/plain": [
       "\n",
       "  6\n",
       " 70\n",
       "[torch.cuda.FloatTensor of size 2 (GPU 0)]"
      ]
     },
     "execution_count": 12,
     "metadata": {},
     "output_type": "execute_result"
    }
   ],
   "source": [
    "model(a,b)"
   ]
  },
  {
   "cell_type": "markdown",
   "metadata": {},
   "source": [
    "### Dot product model"
   ]
  },
  {
   "cell_type": "code",
<<<<<<< HEAD
   "execution_count": null,
   "metadata": {},
=======
   "execution_count": 14,
   "metadata": {
    "collapsed": true,
    "hidden": true
   },
>>>>>>> 98643253d2d611600810df1715a2525450f3bdab
   "outputs": [],
   "source": [
    "u_uniq = ratings.userId.unique()\n",
    "user2idx = {o:i for i,o in enumerate(u_uniq)}\n",
    "ratings.userId = ratings.userId.apply(lambda x: user2idx[x])\n",
    "\n",
    "m_uniq = ratings.movieId.unique()\n",
    "movie2idx = {o:i for i,o in enumerate(m_uniq)}\n",
    "ratings.movieId = ratings.movieId.apply(lambda x: movie2idx[x])\n",
    "\n",
    "n_users=int(ratings.userId.nunique())\n",
    "n_movies=int(ratings.movieId.nunique())"
   ]
  },
  {
   "cell_type": "code",
<<<<<<< HEAD
   "execution_count": null,
   "metadata": {},
=======
   "execution_count": 15,
   "metadata": {
    "collapsed": true
   },
   "outputs": [
    {
     "data": {
      "text/plain": [
       "0    0\n",
       "1    0\n",
       "2    0\n",
       "3    0\n",
       "4    0\n",
       "Name: userId, dtype: int64"
      ]
     },
     "execution_count": 15,
     "metadata": {},
     "output_type": "execute_result"
    }
   ],
   "source": [
    "ratings.userId[:5]"
   ]
  },
  {
   "cell_type": "code",
   "execution_count": 16,
   "metadata": {
    "collapsed": true
   },
   "outputs": [
    {
     "data": {
      "text/plain": [
       "0    0\n",
       "1    1\n",
       "2    2\n",
       "3    3\n",
       "4    4\n",
       "Name: movieId, dtype: int64"
      ]
     },
     "execution_count": 16,
     "metadata": {},
     "output_type": "execute_result"
    }
   ],
   "source": [
    "ratings.movieId[:5]"
   ]
  },
  {
   "cell_type": "code",
   "execution_count": 17,
   "metadata": {
    "collapsed": true
   },
   "outputs": [
    {
     "data": {
      "text/plain": [
       "9066"
      ]
     },
     "execution_count": 17,
     "metadata": {},
     "output_type": "execute_result"
    }
   ],
   "source": [
    "n_movies"
   ]
  },
  {
   "cell_type": "code",
   "execution_count": 18,
   "metadata": {
    "collapsed": true,
    "hidden": true
   },
>>>>>>> 98643253d2d611600810df1715a2525450f3bdab
   "outputs": [],
   "source": [
    "class EmbeddingDot(nn.Module):\n",
    "    def __init__(self, n_users, n_movies):\n",
    "        super().__init__()\n",
    "        self.u = nn.Embedding(n_users, n_factors)\n",
    "        self.m = nn.Embedding(n_movies, n_factors)\n",
    "        self.u.weight.data.uniform_(0,0.05)\n",
    "        self.m.weight.data.uniform_(0,0.05)\n",
    "        \n",
    "    def forward(self, cats, conts):\n",
    "        users,movies = cats[:,0],cats[:,1]\n",
    "        u,m = self.u(users),self.m(movies)\n",
    "        return (u*m).sum(1).view(-1, 1)"
   ]
  },
  {
   "cell_type": "code",
<<<<<<< HEAD
   "execution_count": null,
   "metadata": {},
=======
   "execution_count": 19,
   "metadata": {
    "collapsed": true,
    "hidden": true
   },
>>>>>>> 98643253d2d611600810df1715a2525450f3bdab
   "outputs": [],
   "source": [
    "x = ratings.drop(['rating', 'timestamp'],axis=1)\n",
    "y = ratings['rating'].astype(np.float32)"
   ]
  },
  {
   "cell_type": "code",
<<<<<<< HEAD
   "execution_count": null,
   "metadata": {},
=======
   "execution_count": 20,
   "metadata": {
    "collapsed": true
   },
   "outputs": [
    {
     "data": {
      "text/html": [
       "<div>\n",
       "<style scoped>\n",
       "    .dataframe tbody tr th:only-of-type {\n",
       "        vertical-align: middle;\n",
       "    }\n",
       "\n",
       "    .dataframe tbody tr th {\n",
       "        vertical-align: top;\n",
       "    }\n",
       "\n",
       "    .dataframe thead th {\n",
       "        text-align: right;\n",
       "    }\n",
       "</style>\n",
       "<table border=\"1\" class=\"dataframe\">\n",
       "  <thead>\n",
       "    <tr style=\"text-align: right;\">\n",
       "      <th></th>\n",
       "      <th>userId</th>\n",
       "      <th>movieId</th>\n",
       "    </tr>\n",
       "  </thead>\n",
       "  <tbody>\n",
       "    <tr>\n",
       "      <th>0</th>\n",
       "      <td>0</td>\n",
       "      <td>0</td>\n",
       "    </tr>\n",
       "    <tr>\n",
       "      <th>1</th>\n",
       "      <td>0</td>\n",
       "      <td>1</td>\n",
       "    </tr>\n",
       "    <tr>\n",
       "      <th>2</th>\n",
       "      <td>0</td>\n",
       "      <td>2</td>\n",
       "    </tr>\n",
       "    <tr>\n",
       "      <th>3</th>\n",
       "      <td>0</td>\n",
       "      <td>3</td>\n",
       "    </tr>\n",
       "    <tr>\n",
       "      <th>4</th>\n",
       "      <td>0</td>\n",
       "      <td>4</td>\n",
       "    </tr>\n",
       "    <tr>\n",
       "      <th>5</th>\n",
       "      <td>0</td>\n",
       "      <td>5</td>\n",
       "    </tr>\n",
       "    <tr>\n",
       "      <th>6</th>\n",
       "      <td>0</td>\n",
       "      <td>6</td>\n",
       "    </tr>\n",
       "    <tr>\n",
       "      <th>7</th>\n",
       "      <td>0</td>\n",
       "      <td>7</td>\n",
       "    </tr>\n",
       "    <tr>\n",
       "      <th>8</th>\n",
       "      <td>0</td>\n",
       "      <td>8</td>\n",
       "    </tr>\n",
       "    <tr>\n",
       "      <th>9</th>\n",
       "      <td>0</td>\n",
       "      <td>9</td>\n",
       "    </tr>\n",
       "  </tbody>\n",
       "</table>\n",
       "</div>"
      ],
      "text/plain": [
       "   userId  movieId\n",
       "0       0        0\n",
       "1       0        1\n",
       "2       0        2\n",
       "3       0        3\n",
       "4       0        4\n",
       "5       0        5\n",
       "6       0        6\n",
       "7       0        7\n",
       "8       0        8\n",
       "9       0        9"
      ]
     },
     "execution_count": 20,
     "metadata": {},
     "output_type": "execute_result"
    }
   ],
   "source": [
    "x[:10]"
   ]
  },
  {
   "cell_type": "code",
   "execution_count": 21,
   "metadata": {
    "collapsed": true
   },
   "outputs": [
    {
     "data": {
      "text/plain": [
       "0    2.5\n",
       "1    3.0\n",
       "2    3.0\n",
       "3    2.0\n",
       "4    4.0\n",
       "5    2.0\n",
       "6    2.0\n",
       "7    2.0\n",
       "8    3.5\n",
       "9    2.0\n",
       "Name: rating, dtype: float32"
      ]
     },
     "execution_count": 21,
     "metadata": {},
     "output_type": "execute_result"
    }
   ],
   "source": [
    "y[:10]"
   ]
  },
  {
   "cell_type": "code",
   "execution_count": 22,
   "metadata": {
    "collapsed": true,
    "hidden": true
   },
>>>>>>> 98643253d2d611600810df1715a2525450f3bdab
   "outputs": [],
   "source": [
    "data = ColumnarModelData.from_data_frame(path, val_idxs, x, y, ['userId', 'movieId'], 64)"
   ]
  },
  {
   "cell_type": "code",
<<<<<<< HEAD
   "execution_count": null,
   "metadata": {},
=======
   "execution_count": 23,
   "metadata": {
    "collapsed": true,
    "hidden": true
   },
>>>>>>> 98643253d2d611600810df1715a2525450f3bdab
   "outputs": [],
   "source": [
    "wd=1e-5\n",
    "model = EmbeddingDot(n_users, n_movies).cuda()\n",
    "opt = optim.SGD(model.parameters(), 1e-1, weight_decay=wd, momentum=0.9)"
   ]
  },
  {
   "cell_type": "code",
<<<<<<< HEAD
   "execution_count": null,
   "metadata": {},
=======
   "execution_count": 24,
   "metadata": {
    "collapsed": true,
    "hidden": true
   },
>>>>>>> 98643253d2d611600810df1715a2525450f3bdab
   "outputs": [
    {
     "data": {
      "application/vnd.jupyter.widget-view+json": {
       "model_id": "af87a1bf3b084acdae67700cd17dfc9b",
       "version_major": 2,
       "version_minor": 0
      },
      "text/html": [
       "<p>Failed to display Jupyter Widget of type <code>HBox</code>.</p>\n",
       "<p>\n",
       "  If you're reading this message in the Jupyter Notebook or JupyterLab Notebook, it may mean\n",
       "  that the widgets JavaScript is still loading. If this message persists, it\n",
       "  likely means that the widgets JavaScript library is either not installed or\n",
       "  not enabled. See the <a href=\"https://ipywidgets.readthedocs.io/en/stable/user_install.html\">Jupyter\n",
       "  Widgets Documentation</a> for setup instructions.\n",
       "</p>\n",
       "<p>\n",
       "  If you're reading this message in another frontend (for example, a static\n",
       "  rendering on GitHub or <a href=\"https://nbviewer.jupyter.org/\">NBViewer</a>),\n",
       "  it may mean that your frontend doesn't currently support widgets.\n",
       "</p>\n"
      ],
      "text/plain": [
       "HBox(children=(IntProgress(value=0, description='Epoch', max=3), HTML(value='')))"
      ]
     },
     "metadata": {},
     "output_type": "display_data"
    },
    {
     "name": "stdout",
     "output_type": "stream",
     "text": [
      "epoch      trn_loss   val_loss                                 \n",
      "    0      1.734131   1.646802  \n",
      "    1      1.072854   1.287707                                 \n",
      "    2      0.914166   1.219623                                  \n",
      "\n"
     ]
    },
    {
     "data": {
      "text/plain": [
       "[1.2196231]"
      ]
     },
     "execution_count": 24,
     "metadata": {},
     "output_type": "execute_result"
    }
   ],
   "source": [
    "fit(model, data, 3, opt, F.mse_loss)"
   ]
  },
  {
   "cell_type": "code",
<<<<<<< HEAD
   "execution_count": null,
   "metadata": {},
=======
   "execution_count": 54,
   "metadata": {
    "collapsed": true,
    "hidden": true
   },
>>>>>>> 98643253d2d611600810df1715a2525450f3bdab
   "outputs": [],
   "source": [
    "set_lrs(opt, 0.01)"
   ]
  },
  {
   "cell_type": "code",
<<<<<<< HEAD
   "execution_count": null,
   "metadata": {},
=======
   "execution_count": 55,
   "metadata": {
    "collapsed": true,
    "hidden": true
   },
>>>>>>> 98643253d2d611600810df1715a2525450f3bdab
   "outputs": [
    {
     "data": {
      "application/vnd.jupyter.widget-view+json": {
       "model_id": "009c0e04ac084e99aec9722c1b429a16",
       "version_major": 2,
       "version_minor": 0
      },
      "text/html": [
       "<p>Failed to display Jupyter Widget of type <code>HBox</code>.</p>\n",
       "<p>\n",
       "  If you're reading this message in the Jupyter Notebook or JupyterLab Notebook, it may mean\n",
       "  that the widgets JavaScript is still loading. If this message persists, it\n",
       "  likely means that the widgets JavaScript library is either not installed or\n",
       "  not enabled. See the <a href=\"https://ipywidgets.readthedocs.io/en/stable/user_install.html\">Jupyter\n",
       "  Widgets Documentation</a> for setup instructions.\n",
       "</p>\n",
       "<p>\n",
       "  If you're reading this message in another frontend (for example, a static\n",
       "  rendering on GitHub or <a href=\"https://nbviewer.jupyter.org/\">NBViewer</a>),\n",
       "  it may mean that your frontend doesn't currently support widgets.\n",
       "</p>\n"
      ],
      "text/plain": [
       "HBox(children=(IntProgress(value=0, description='Epoch', max=3), HTML(value='')))"
      ]
     },
     "metadata": {},
     "output_type": "display_data"
    },
    {
     "name": "stdout",
     "output_type": "stream",
     "text": [
      "epoch      trn_loss   val_loss                                  \n",
      "    0      0.686154   1.142765  \n",
      "    1      0.703218   1.132773                                  \n",
      "    2      0.661661   1.12837                                   \n",
      "\n"
     ]
    },
    {
     "data": {
      "text/plain": [
       "[1.1283698]"
      ]
     },
     "execution_count": 55,
     "metadata": {},
     "output_type": "execute_result"
    }
   ],
   "source": [
    "fit(model, data, 3, opt, F.mse_loss)"
   ]
  },
  {
   "cell_type": "markdown",
   "metadata": {},
   "source": [
    "### Bias"
   ]
  },
  {
   "cell_type": "code",
   "execution_count": null,
   "metadata": {},
   "outputs": [
    {
     "data": {
      "text/plain": [
       "(0.5, 5.0)"
      ]
     },
     "execution_count": null,
     "metadata": {},
     "output_type": "execute_result"
    }
   ],
   "source": [
    "min_rating,max_rating = ratings.rating.min(),ratings.rating.max()\n",
    "min_rating,max_rating"
   ]
  },
  {
   "cell_type": "code",
   "execution_count": null,
   "metadata": {},
   "outputs": [],
   "source": [
    "def get_emb(ni,nf):\n",
    "    e = nn.Embedding(ni, nf)\n",
    "    e.weight.data.uniform_(-0.01,0.01)\n",
    "    return e\n",
    "\n",
    "class EmbeddingDotBias(nn.Module):\n",
    "    def __init__(self, n_users, n_movies):\n",
    "        super().__init__()\n",
    "        (self.u, self.m, self.ub, self.mb) = [get_emb(*o) for o in [\n",
    "            (n_users, n_factors), (n_movies, n_factors), (n_users,1), (n_movies,1)\n",
    "        ]]\n",
    "        \n",
    "    def forward(self, cats, conts):\n",
    "        users,movies = cats[:,0],cats[:,1]\n",
    "        um = (self.u(users)* self.m(movies)).sum(1)\n",
    "        res = um + self.ub(users).squeeze() + self.mb(movies).squeeze()\n",
    "        res = F.sigmoid(res) * (max_rating-min_rating) + min_rating\n",
    "        return res.view(-1, 1)"
   ]
  },
  {
   "cell_type": "code",
<<<<<<< HEAD
   "execution_count": null,
   "metadata": {},
=======
   "execution_count": 19,
   "metadata": {
    "collapsed": true,
    "hidden": true
   },
>>>>>>> 98643253d2d611600810df1715a2525450f3bdab
   "outputs": [],
   "source": [
    "wd=2e-4\n",
    "model = EmbeddingDotBias(cf.n_users, cf.n_items).cuda()\n",
    "opt = optim.SGD(model.parameters(), 1e-1, weight_decay=wd, momentum=0.9)"
   ]
  },
  {
   "cell_type": "code",
   "execution_count": null,
   "metadata": {},
   "outputs": [
    {
     "data": {
      "application/vnd.jupyter.widget-view+json": {
       "model_id": "95093026b28a415783ac620cc5ade85e",
       "version_major": 2,
       "version_minor": 0
      },
      "text/plain": [
       "A Jupyter Widget"
      ]
     },
     "metadata": {},
     "output_type": "display_data"
    },
    {
     "name": "stdout",
     "output_type": "stream",
     "text": [
      "[ 0.       0.88212  0.83626]                                    \n",
      "[ 1.       0.8108   0.81831]                                    \n",
      "[ 2.       0.78864  0.80989]                                    \n",
      "\n"
     ]
    }
   ],
   "source": [
    "fit(model, data, 3, opt, F.mse_loss)"
   ]
  },
  {
   "cell_type": "code",
   "execution_count": null,
   "metadata": {},
   "outputs": [],
   "source": [
    "set_lrs(opt, 1e-2)"
   ]
  },
  {
   "cell_type": "code",
   "execution_count": null,
   "metadata": {},
   "outputs": [
    {
     "data": {
      "application/vnd.jupyter.widget-view+json": {
       "model_id": "4ab6c0fd5887430b9b5f0cda8f8a1772",
       "version_major": 2,
       "version_minor": 0
      },
      "text/plain": [
       "A Jupyter Widget"
      ]
     },
     "metadata": {},
     "output_type": "display_data"
    },
    {
     "name": "stdout",
     "output_type": "stream",
     "text": [
      "[ 0.       0.72795  0.80337]                                    \n",
      "[ 1.       0.75064  0.80203]                                    \n",
      "[ 2.       0.75122  0.80124]                                    \n",
      "\n"
     ]
    }
   ],
   "source": [
    "fit(model, data, 3, opt, F.mse_loss)"
   ]
  },
  {
   "cell_type": "markdown",
   "metadata": {},
   "source": [
    "### Mini net"
   ]
  },
  {
   "cell_type": "code",
   "execution_count": null,
   "metadata": {},
   "outputs": [],
   "source": [
    "class EmbeddingNet(nn.Module):\n",
    "    def __init__(self, n_users, n_movies, nh=10, p1=0.05, p2=0.5):\n",
    "        super().__init__()\n",
    "        (self.u, self.m) = [get_emb(*o) for o in [\n",
    "            (n_users, n_factors), (n_movies, n_factors)]]\n",
    "        self.lin1 = nn.Linear(n_factors*2, nh)\n",
    "        self.lin2 = nn.Linear(nh, 1)\n",
    "        self.drop1 = nn.Dropout(p1)\n",
    "        self.drop2 = nn.Dropout(p2)\n",
    "        \n",
    "    def forward(self, cats, conts):\n",
    "        users,movies = cats[:,0],cats[:,1]\n",
    "        x = self.drop1(torch.cat([self.u(users),self.m(movies)], dim=1))\n",
    "        x = self.drop2(F.relu(self.lin1(x)))\n",
    "        return F.sigmoid(self.lin2(x)) * (max_rating-min_rating+1) + min_rating-0.5"
   ]
  },
  {
   "cell_type": "code",
   "execution_count": null,
   "metadata": {},
   "outputs": [],
   "source": [
    "wd=1e-5\n",
    "model = EmbeddingNet(n_users, n_movies).cuda()\n",
    "opt = optim.Adam(model.parameters(), 1e-3, weight_decay=wd)"
   ]
  },
  {
   "cell_type": "code",
   "execution_count": null,
   "metadata": {},
   "outputs": [
    {
     "data": {
      "application/vnd.jupyter.widget-view+json": {
       "model_id": "0ca8d1c156c9403fab6adec1f863786d",
       "version_major": 2,
       "version_minor": 0
      },
      "text/plain": [
       "A Jupyter Widget"
      ]
     },
     "metadata": {},
     "output_type": "display_data"
    },
    {
     "name": "stdout",
     "output_type": "stream",
     "text": [
      "[ 0.       0.88043  0.82363]                                    \n",
      "[ 1.       0.8941   0.81264]                                    \n",
      "[ 2.       0.86179  0.80706]                                    \n",
      "\n"
     ]
    }
   ],
   "source": [
    "fit(model, data, 3, opt, F.mse_loss)"
   ]
  },
  {
   "cell_type": "code",
   "execution_count": null,
   "metadata": {},
   "outputs": [],
   "source": [
    "set_lrs(opt, 1e-3)"
   ]
  },
  {
   "cell_type": "code",
   "execution_count": null,
   "metadata": {},
   "outputs": [
    {
     "data": {
      "application/vnd.jupyter.widget-view+json": {
       "model_id": "9d4c659d07b543b796fe37c789daebad",
       "version_major": 2,
       "version_minor": 0
      },
      "text/plain": [
       "A Jupyter Widget"
      ]
     },
     "metadata": {},
     "output_type": "display_data"
    },
    {
     "name": "stdout",
     "output_type": "stream",
     "text": [
      "[ 0.       0.7669   0.78622]                                    \n",
      "[ 1.       0.74277  0.78152]                                    \n",
      "[ 2.       0.69891  0.78075]                                    \n",
      "\n"
     ]
    }
   ],
   "source": [
    "fit(model, data, 3, opt, F.mse_loss)"
   ]
  },
  {
   "cell_type": "code",
   "execution_count": null,
   "metadata": {},
   "outputs": [],
   "source": []
  }
 ],
 "metadata": {
  "kernelspec": {
   "display_name": "Python 3",
   "language": "python",
   "name": "python3"
  }
 },
 "nbformat": 4,
 "nbformat_minor": 2
}
