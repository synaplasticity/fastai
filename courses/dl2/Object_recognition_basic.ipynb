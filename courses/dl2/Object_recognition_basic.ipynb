{
 "cells": [
  {
   "cell_type": "code",
   "execution_count": 2,
   "metadata": {},
   "outputs": [],
   "source": [
    "%matplotlib inline\n",
    "%reload_ext autoreload\n",
    "%autoreload 2"
   ]
  },
  {
   "cell_type": "code",
   "execution_count": 3,
   "metadata": {},
   "outputs": [],
   "source": [
    "from fastai.conv_learner import *\n",
    "from fastai.dataset import *\n",
    "\n",
    "from pathlib import Path\n",
    "import json\n",
    "from PIL import ImageDraw, ImageFont\n",
    "from matplotlib import patches, patheffects"
   ]
  },
  {
   "cell_type": "code",
   "execution_count": 4,
   "metadata": {},
   "outputs": [],
   "source": [
    "p_name = \"Object_recognition_basics\""
   ]
  },
  {
   "cell_type": "markdown",
   "metadata": {},
   "source": [
    "# Data setup"
   ]
  },
  {
   "cell_type": "code",
   "execution_count": 27,
   "metadata": {},
   "outputs": [
    {
     "data": {
      "text/plain": [
       "[PosixPath('data/pascal/VOCdevkit'),\n",
       " PosixPath('data/pascal/pascal_train2007.json'),\n",
       " PosixPath('data/pascal/pascal_test2007.json'),\n",
       " PosixPath('data/pascal/pascal_val2012.json'),\n",
       " PosixPath('data/pascal/pascal_val2007.json'),\n",
       " PosixPath('data/pascal/pascal_train2012.json'),\n",
       " PosixPath('data/pascal/models'),\n",
       " PosixPath('data/pascal/tmp')]"
      ]
     },
     "execution_count": 27,
     "metadata": {},
     "output_type": "execute_result"
    }
   ],
   "source": [
    "PATH = Path('data/pascal')\n",
    "assert str(PATH) == 'data/pascal'\n",
    "list(PATH.iterdir())"
   ]
  },
  {
   "cell_type": "markdown",
   "metadata": {},
   "source": [
    "### Annotations for the bound boxes"
   ]
  },
  {
   "cell_type": "code",
   "execution_count": 23,
   "metadata": {},
   "outputs": [
    {
     "data": {
      "text/plain": [
       "dict_keys(['images', 'type', 'annotations', 'categories'])"
      ]
     },
     "execution_count": 23,
     "metadata": {},
     "output_type": "execute_result"
    }
   ],
   "source": [
    "trn_json = json.load((PATH / 'pascal_train2007.json').open())\n",
    "assert trn_json.keys() is not []\n",
    "trn_json.keys()"
   ]
  },
  {
   "cell_type": "markdown",
   "metadata": {},
   "source": [
    "###### Better to use CONSTANTS as provide better auto-complete and we don't mistype them"
   ]
  },
  {
   "cell_type": "code",
   "execution_count": 28,
   "metadata": {},
   "outputs": [],
   "source": [
    "IMAGES,ANNOTATIONS,CATEGORIES = ['images', 'annotations', 'categories']"
   ]
  },
  {
   "cell_type": "code",
   "execution_count": 29,
   "metadata": {},
   "outputs": [
    {
     "data": {
      "text/plain": [
       "[{'file_name': '000012.jpg', 'height': 333, 'id': 12, 'width': 500},\n",
       " {'file_name': '000017.jpg', 'height': 364, 'id': 17, 'width': 480}]"
      ]
     },
     "execution_count": 29,
     "metadata": {},
     "output_type": "execute_result"
    }
   ],
   "source": [
    "trn_json[IMAGES][:2]"
   ]
  },
  {
   "cell_type": "code",
   "execution_count": 32,
   "metadata": {},
   "outputs": [
    {
     "data": {
      "text/plain": [
       "[{'area': 34104,\n",
       "  'bbox': [155, 96, 196, 174],\n",
       "  'category_id': 7,\n",
       "  'id': 1,\n",
       "  'ignore': 0,\n",
       "  'image_id': 12,\n",
       "  'iscrowd': 0,\n",
       "  'segmentation': [[155, 96, 155, 270, 351, 270, 351, 96]]}]"
      ]
     },
     "execution_count": 32,
     "metadata": {},
     "output_type": "execute_result"
    }
   ],
   "source": [
    "trn_json[ANNOTATIONS][:1]"
   ]
  },
  {
   "cell_type": "code",
   "execution_count": 31,
   "metadata": {},
   "outputs": [
    {
     "data": {
      "text/plain": [
       "[{'id': 1, 'name': 'aeroplane', 'supercategory': 'none'},\n",
       " {'id': 2, 'name': 'bicycle', 'supercategory': 'none'}]"
      ]
     },
     "execution_count": 31,
     "metadata": {},
     "output_type": "execute_result"
    }
   ],
   "source": [
    "trn_json[CATEGORIES][:2]"
   ]
  },
  {
   "cell_type": "code",
   "execution_count": null,
   "metadata": {},
   "outputs": [],
   "source": []
  },
  {
   "cell_type": "code",
   "execution_count": 35,
   "metadata": {},
   "outputs": [],
   "source": [
    "JPEGS_PATH = 'VOCdevkit/VOC2007/JPEGImages'"
   ]
  },
  {
   "cell_type": "code",
   "execution_count": 39,
   "metadata": {},
   "outputs": [
    {
     "data": {
      "text/plain": [
       "[PosixPath('data/pascal/VOCdevkit/VOC2007/JPEGImages/006948.jpg'),\n",
       " PosixPath('data/pascal/VOCdevkit/VOC2007/JPEGImages/005796.jpg'),\n",
       " PosixPath('data/pascal/VOCdevkit/VOC2007/JPEGImages/007006.jpg'),\n",
       " PosixPath('data/pascal/VOCdevkit/VOC2007/JPEGImages/004693.jpg'),\n",
       " PosixPath('data/pascal/VOCdevkit/VOC2007/JPEGImages/002279.jpg')]"
      ]
     },
     "execution_count": 39,
     "metadata": {},
     "output_type": "execute_result"
    }
   ],
   "source": [
    "IMG_PATH = PATH / JPEGS_PATH\n",
    "list(IMG_PATH.iterdir())[:5]"
   ]
  },
  {
   "cell_type": "code",
   "execution_count": null,
   "metadata": {},
   "outputs": [],
   "source": []
  }
 ],
 "metadata": {
  "kernelspec": {
   "display_name": "Python 3",
   "language": "python",
   "name": "python3"
  },
  "language_info": {
   "codemirror_mode": {
    "name": "ipython",
    "version": 3
   },
   "file_extension": ".py",
   "mimetype": "text/x-python",
   "name": "python",
   "nbconvert_exporter": "python",
   "pygments_lexer": "ipython3",
   "version": "3.6.4"
  }
 },
 "nbformat": 4,
 "nbformat_minor": 2
}
