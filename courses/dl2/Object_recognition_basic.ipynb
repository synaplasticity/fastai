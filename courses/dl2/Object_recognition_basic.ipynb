{
 "cells": [
  {
   "cell_type": "code",
   "execution_count": 1,
   "metadata": {},
   "outputs": [],
   "source": [
    "%matplotlib inline\n",
    "%reload_ext autoreload\n",
    "%autoreload 2"
   ]
  },
  {
   "cell_type": "code",
   "execution_count": 2,
   "metadata": {},
   "outputs": [],
   "source": [
    "from fastai.conv_learner import *\n",
    "from fastai.dataset import *\n",
    "\n",
    "from pathlib import Path\n",
    "import json\n",
    "from PIL import ImageDraw, ImageFont\n",
    "from matplotlib import patches, patheffects"
   ]
  },
  {
   "cell_type": "code",
   "execution_count": 3,
   "metadata": {},
   "outputs": [],
   "source": [
    "p_name = \"Object_recognition_basics\""
   ]
  },
  {
   "cell_type": "markdown",
   "metadata": {},
   "source": [
    "# Data setup"
   ]
  },
  {
   "cell_type": "code",
   "execution_count": 4,
   "metadata": {},
   "outputs": [
    {
     "data": {
      "text/plain": [
       "[PosixPath('data/pascal/VOCdevkit'),\n",
       " PosixPath('data/pascal/pascal_train2007.json'),\n",
       " PosixPath('data/pascal/pascal_test2007.json'),\n",
       " PosixPath('data/pascal/pascal_val2012.json'),\n",
       " PosixPath('data/pascal/pascal_val2007.json'),\n",
       " PosixPath('data/pascal/pascal_train2012.json'),\n",
       " PosixPath('data/pascal/models'),\n",
       " PosixPath('data/pascal/tmp')]"
      ]
     },
     "execution_count": 4,
     "metadata": {},
     "output_type": "execute_result"
    }
   ],
   "source": [
    "PATH = Path('data/pascal')\n",
    "assert str(PATH) == 'data/pascal'\n",
    "list(PATH.iterdir())"
   ]
  },
  {
   "cell_type": "markdown",
   "metadata": {},
   "source": [
    "### Annotations for the bound boxes"
   ]
  },
  {
   "cell_type": "code",
   "execution_count": 5,
   "metadata": {},
   "outputs": [
    {
     "data": {
      "text/plain": [
       "dict_keys(['images', 'type', 'annotations', 'categories'])"
      ]
     },
     "execution_count": 5,
     "metadata": {},
     "output_type": "execute_result"
    }
   ],
   "source": [
    "trn_json = json.load((PATH / 'pascal_train2007.json').open())\n",
    "assert trn_json.keys() is not []\n",
    "trn_json.keys()"
   ]
  },
  {
   "cell_type": "markdown",
   "metadata": {},
   "source": [
    "###### Better to use CONSTANTS as provide better auto-complete and we don't mistype them"
   ]
  },
  {
   "cell_type": "code",
   "execution_count": 6,
   "metadata": {},
   "outputs": [],
   "source": [
    "IMAGES, ANNOTATIONS, CATEGORIES = ['images', 'annotations', 'categories']"
   ]
  },
  {
   "cell_type": "code",
   "execution_count": 7,
   "metadata": {},
   "outputs": [
    {
     "data": {
      "text/plain": [
       "[{'file_name': '000012.jpg', 'height': 333, 'id': 12, 'width': 500},\n",
       " {'file_name': '000017.jpg', 'height': 364, 'id': 17, 'width': 480}]"
      ]
     },
     "execution_count": 7,
     "metadata": {},
     "output_type": "execute_result"
    }
   ],
   "source": [
    "trn_json[IMAGES][:2]"
   ]
  },
  {
   "cell_type": "code",
   "execution_count": 8,
   "metadata": {},
   "outputs": [
    {
     "data": {
      "text/plain": [
       "[{'area': 34104,\n",
       "  'bbox': [155, 96, 196, 174],\n",
       "  'category_id': 7,\n",
       "  'id': 1,\n",
       "  'ignore': 0,\n",
       "  'image_id': 12,\n",
       "  'iscrowd': 0,\n",
       "  'segmentation': [[155, 96, 155, 270, 351, 270, 351, 96]]}]"
      ]
     },
     "execution_count": 8,
     "metadata": {},
     "output_type": "execute_result"
    }
   ],
   "source": [
    "trn_json[ANNOTATIONS][:1]"
   ]
  },
  {
   "cell_type": "code",
   "execution_count": 9,
   "metadata": {},
   "outputs": [
    {
     "data": {
      "text/plain": [
       "[{'id': 1, 'name': 'aeroplane', 'supercategory': 'none'},\n",
       " {'id': 2, 'name': 'bicycle', 'supercategory': 'none'}]"
      ]
     },
     "execution_count": 9,
     "metadata": {},
     "output_type": "execute_result"
    }
   ],
   "source": [
    "trn_json[CATEGORIES][:2]"
   ]
  },
  {
   "cell_type": "markdown",
   "metadata": {},
   "source": [
    "### Let's create some dict of key data"
   ]
  },
  {
   "cell_type": "code",
   "execution_count": 10,
   "metadata": {},
   "outputs": [],
   "source": [
    "FILE_NAME, ID, IMG_ID, CAT_ID, BBOX = 'file_name','id','image_id','category_id','bbox'"
   ]
  },
  {
   "cell_type": "code",
   "execution_count": 15,
   "metadata": {},
   "outputs": [],
   "source": [
    "cats = {cat[ID] : cat['name'] for cat in trn_json[CATEGORIES]}"
   ]
  },
  {
   "cell_type": "code",
   "execution_count": 16,
   "metadata": {},
   "outputs": [
    {
     "data": {
      "text/plain": [
       "{1: 'aeroplane',\n",
       " 2: 'bicycle',\n",
       " 3: 'bird',\n",
       " 4: 'boat',\n",
       " 5: 'bottle',\n",
       " 6: 'bus',\n",
       " 7: 'car',\n",
       " 8: 'cat',\n",
       " 9: 'chair',\n",
       " 10: 'cow',\n",
       " 11: 'diningtable',\n",
       " 12: 'dog',\n",
       " 13: 'horse',\n",
       " 14: 'motorbike',\n",
       " 15: 'person',\n",
       " 16: 'pottedplant',\n",
       " 17: 'sheep',\n",
       " 18: 'sofa',\n",
       " 19: 'train',\n",
       " 20: 'tvmonitor'}"
      ]
     },
     "execution_count": 16,
     "metadata": {},
     "output_type": "execute_result"
    }
   ],
   "source": [
    "cats"
   ]
  },
  {
   "cell_type": "code",
   "execution_count": 18,
   "metadata": {},
   "outputs": [],
   "source": [
    "trn_fnames = {img[ID] : img[FILE_NAME] for img in trn_json[IMAGES]}"
   ]
  },
  {
   "cell_type": "code",
   "execution_count": 27,
   "metadata": {},
   "outputs": [],
   "source": [
    "trn_ids = [img[ID] for img in trn_json[IMAGES]]"
   ]
  },
  {
   "cell_type": "code",
   "execution_count": 28,
   "metadata": {},
   "outputs": [
    {
     "data": {
      "text/plain": [
       "[12, 17]"
      ]
     },
     "execution_count": 28,
     "metadata": {},
     "output_type": "execute_result"
    }
   ],
   "source": [
    "trn_ids[:2]"
   ]
  },
  {
   "cell_type": "code",
   "execution_count": 30,
   "metadata": {},
   "outputs": [
    {
     "data": {
      "text/plain": [
       "'000012.jpg 000017.jpg 000023.jpg 000026.jpg 000032.jpg'"
      ]
     },
     "execution_count": 30,
     "metadata": {},
     "output_type": "execute_result"
    }
   ],
   "source": [
    "' '.join(trn_fnames[key] for key in trn_ids[:5])"
   ]
  },
  {
   "cell_type": "code",
   "execution_count": null,
   "metadata": {},
   "outputs": [],
   "source": []
  },
  {
   "cell_type": "code",
   "execution_count": 49,
   "metadata": {},
   "outputs": [],
   "source": [
    "JPEGS_PATH = 'VOCdevkit/VOC2007/JPEGImages'"
   ]
  },
  {
   "cell_type": "code",
   "execution_count": 50,
   "metadata": {},
   "outputs": [
    {
     "data": {
      "text/plain": [
       "[PosixPath('data/pascal/VOCdevkit/VOC2007/JPEGImages/006948.jpg'),\n",
       " PosixPath('data/pascal/VOCdevkit/VOC2007/JPEGImages/005796.jpg'),\n",
       " PosixPath('data/pascal/VOCdevkit/VOC2007/JPEGImages/007006.jpg'),\n",
       " PosixPath('data/pascal/VOCdevkit/VOC2007/JPEGImages/004693.jpg'),\n",
       " PosixPath('data/pascal/VOCdevkit/VOC2007/JPEGImages/002279.jpg')]"
      ]
     },
     "execution_count": 50,
     "metadata": {},
     "output_type": "execute_result"
    }
   ],
   "source": [
    "IMG_PATH = PATH / JPEGS_PATH\n",
    "list(IMG_PATH.iterdir())[:5]"
   ]
  },
  {
   "cell_type": "code",
   "execution_count": 31,
   "metadata": {},
   "outputs": [
    {
     "data": {
      "text/plain": [
       "('000012.jpg', 12)"
      ]
     },
     "execution_count": 31,
     "metadata": {},
     "output_type": "execute_result"
    }
   ],
   "source": [
    "img0_d = trn_json[IMAGES][0]\n",
    "img0_d[FILE_NAME], img0_d[ID]"
   ]
  },
  {
   "cell_type": "markdown",
   "metadata": {},
   "source": [
    "A `defaultdict` is useful any time you want to have a default dictionary entry for new keys. Here we create a dict from image IDs to a list of annotations (tuple of bounding box and class id)."
   ]
  },
  {
   "cell_type": "markdown",
   "metadata": {},
   "source": [
    "#### We convert VOC's height/width into top-left/bottom-right, and switch x/y coords to be consistent with numpy."
   ]
  },
  {
   "cell_type": "code",
   "execution_count": 32,
   "metadata": {},
   "outputs": [
    {
     "data": {
      "text/plain": [
       "{'area': 34104,\n",
       " 'bbox': [155, 96, 196, 174],\n",
       " 'category_id': 7,\n",
       " 'id': 1,\n",
       " 'ignore': 0,\n",
       " 'image_id': 12,\n",
       " 'iscrowd': 0,\n",
       " 'segmentation': [[155, 96, 155, 270, 351, 270, 351, 96]]}"
      ]
     },
     "execution_count": 32,
     "metadata": {},
     "output_type": "execute_result"
    }
   ],
   "source": [
    "trn_json[ANNOTATIONS][0]"
   ]
  },
  {
   "cell_type": "code",
   "execution_count": 36,
   "metadata": {},
   "outputs": [],
   "source": [
    "trn_anno = collections.defaultdict(lambda: []) # empty dict\n",
    "for a in trn_json[ANNOTATIONS]:\n",
    "    if not a['ignore']:\n",
    "        bb = a[BBOX]\n",
    "        bb = np.array([bb[1], bb[0], bb[3] + bb[1] - 1, bb[2] + bb[0] - 1])\n",
    "        trn_anno[a[IMG_ID]].append( (bb, a[CAT_ID]) )"
   ]
  },
  {
   "cell_type": "code",
   "execution_count": 39,
   "metadata": {},
   "outputs": [
    {
     "data": {
      "text/plain": [
       "[(array([ 96, 155, 269, 350]), 7)]"
      ]
     },
     "execution_count": 39,
     "metadata": {},
     "output_type": "execute_result"
    }
   ],
   "source": [
    "trn_anno[img0_d[ID]]"
   ]
  },
  {
   "cell_type": "code",
   "execution_count": 40,
   "metadata": {},
   "outputs": [
    {
     "data": {
      "text/plain": [
       "'sheep'"
      ]
     },
     "execution_count": 40,
     "metadata": {},
     "output_type": "execute_result"
    }
   ],
   "source": [
    "cats[17]"
   ]
  },
  {
   "cell_type": "code",
   "execution_count": 42,
   "metadata": {},
   "outputs": [
    {
     "data": {
      "text/plain": [
       "[(array([ 61, 184, 198, 278]), 15), (array([ 77,  89, 335, 402]), 13)]"
      ]
     },
     "execution_count": 42,
     "metadata": {},
     "output_type": "execute_result"
    }
   ],
   "source": [
    "trn_anno[17]"
   ]
  },
  {
   "cell_type": "code",
   "execution_count": 44,
   "metadata": {},
   "outputs": [],
   "source": [
    "def bb_2_hw(bb_hw):\n",
    "    \"\"\"\n",
    "    Some libs take VOC format bounding boxes, so this let's us convert back when required:\n",
    "    \"\"\"\n",
    "    return np.array([bb[1], bb[0], bb[3] - bb[1], bb[2] - bb[0]])\n",
    "    "
   ]
  },
  {
   "cell_type": "code",
   "execution_count": 51,
   "metadata": {
    "scrolled": true
   },
   "outputs": [],
   "source": [
    "im = open_image(IMG_PATH / img0_d[FILE_NAME])"
   ]
  },
  {
   "cell_type": "code",
   "execution_count": 57,
   "metadata": {},
   "outputs": [],
   "source": [
    "def show_img(img, figsize=None, ax=None):\n",
    "    if not ax:\n",
    "        fig, ax = plt.subplots(figsize=figsize)\n",
    "        \n",
    "    ax.imshow(img)\n",
    "    ax.get_xaxis().set_visible(False)\n",
    "    ax.get_yaxis().set_visible(False)\n",
    "    \n",
    "    return ax"
   ]
  },
  {
   "cell_type": "code",
   "execution_count": 62,
   "metadata": {},
   "outputs": [
    {
     "ename": "SyntaxError",
     "evalue": "unexpected EOF while parsing (<ipython-input-62-f656187df674>, line 1)",
     "output_type": "error",
     "traceback": [
      "\u001b[0;36m  File \u001b[0;32m\"<ipython-input-62-f656187df674>\"\u001b[0;36m, line \u001b[0;32m1\u001b[0m\n\u001b[0;31m    def draw_outline(img, line_w\u001b[0m\n\u001b[0m                                ^\u001b[0m\n\u001b[0;31mSyntaxError\u001b[0m\u001b[0;31m:\u001b[0m unexpected EOF while parsing\n"
     ]
    }
   ],
   "source": [
    "def draw_outline(img, line_w):\n",
    "    img.set_path_effects( [patheffects.Stroke(linewidth=line_w, \n",
    "                                              foreground='black'), patheffects.Normal()] )"
   ]
  },
  {
   "cell_type": "code",
   "execution_count": null,
   "metadata": {},
   "outputs": [],
   "source": [
    "show_img(im)"
   ]
  },
  {
   "cell_type": "code",
   "execution_count": null,
   "metadata": {},
   "outputs": [],
   "source": []
  }
 ],
 "metadata": {
  "kernelspec": {
   "display_name": "Python 3",
   "language": "python",
   "name": "python3"
  },
  "language_info": {
   "codemirror_mode": {
    "name": "ipython",
    "version": 3
   },
   "file_extension": ".py",
   "mimetype": "text/x-python",
   "name": "python",
   "nbconvert_exporter": "python",
   "pygments_lexer": "ipython3",
   "version": "3.6.4"
  }
 },
 "nbformat": 4,
 "nbformat_minor": 2
}
