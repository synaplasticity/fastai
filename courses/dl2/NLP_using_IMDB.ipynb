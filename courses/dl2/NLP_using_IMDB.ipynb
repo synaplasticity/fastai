{
 "cells": [
  {
   "cell_type": "code",
   "execution_count": 1,
   "metadata": {},
   "outputs": [],
   "source": [
    "from fastai.text import *\n",
    "import html"
   ]
  },
  {
   "cell_type": "markdown",
   "metadata": {},
   "source": [
    "The Fastai.text module introduces several custom tokens."
   ]
  },
  {
   "cell_type": "code",
   "execution_count": 2,
   "metadata": {},
   "outputs": [],
   "source": [
    "BOS = 'xbos' # beginning of sentence tag\n",
    "FLD = 'xfld' # data field tag"
   ]
  },
  {
   "cell_type": "code",
   "execution_count": 3,
   "metadata": {},
   "outputs": [],
   "source": [
    "PATH = Path('data/aclImdb/')"
   ]
  },
  {
   "cell_type": "markdown",
   "metadata": {},
   "source": [
    "## Standardize format"
   ]
  },
  {
   "cell_type": "code",
   "execution_count": 4,
   "metadata": {},
   "outputs": [],
   "source": [
    "CLASF_PATH = PATH/'imdb_clas'\n",
    "CLASF_PATH.mkdir(exist_ok=True)\n",
    "assert CLASF_PATH.exists\n",
    "\n",
    "LANG_M_PATH = PATH/'imdb_lm'\n",
    "LANG_M_PATH.mkdir(exist_ok=True)\n",
    "assert LANG_M_PATH.exists"
   ]
  },
  {
   "cell_type": "markdown",
   "metadata": {},
   "source": [
    "_The imdb dataset has 3 classes. positive, negative and unsupervised(sentiment is unknown). There are 75k training reviews(12.5k pos, 12.5k neg, 50k unsup) There are 25k validation reviews(12.5k pos, 12.5k neg & no unsup)_"
   ]
  },
  {
   "cell_type": "code",
   "execution_count": 5,
   "metadata": {},
   "outputs": [],
   "source": [
    "CLASSES = ['pos', 'neg', 'unsup']"
   ]
  },
  {
   "cell_type": "code",
   "execution_count": 6,
   "metadata": {},
   "outputs": [],
   "source": [
    "def get_texts(path):\n",
    "    texts, labels = [], []\n",
    "    for idx, label in enumerate(CLASSES):\n",
    "        for fname in (path/label).glob('*.*'):\n",
    "            texts.append(fname.open('r').read())\n",
    "            labels.append(idx)\n",
    "    return np.array(texts), np.array(labels)"
   ]
  },
  {
   "cell_type": "code",
   "execution_count": 7,
   "metadata": {},
   "outputs": [],
   "source": [
    "TRN_PATH = PATH/'train'\n",
    "VAL_PATH = PATH/'test'\n",
    "\n",
    "assert TRN_PATH.exists\n",
    "assert VAL_PATH.exists"
   ]
  },
  {
   "cell_type": "code",
   "execution_count": 8,
   "metadata": {},
   "outputs": [
    {
     "data": {
      "text/plain": [
       "(75000, 25000)"
      ]
     },
     "execution_count": 8,
     "metadata": {},
     "output_type": "execute_result"
    }
   ],
   "source": [
    "trn_texts, trn_labels = get_texts(TRN_PATH)\n",
    "val_texts, val_labels = get_texts(VAL_PATH)\n",
    "\n",
    "len(trn_texts), len(val_texts)"
   ]
  },
  {
   "cell_type": "markdown",
   "metadata": {},
   "source": [
    "#### Shuffle the texts randomly"
   ]
  },
  {
   "cell_type": "code",
   "execution_count": 9,
   "metadata": {},
   "outputs": [
    {
     "data": {
      "text/plain": [
       "(array([26837,  2592, 18359]), array([23481, 13606, 13639]))"
      ]
     },
     "execution_count": 9,
     "metadata": {},
     "output_type": "execute_result"
    }
   ],
   "source": [
    "np.random.seed(42)\n",
    "trn_idx = np.random.permutation(len(trn_texts))\n",
    "val_idx = np.random.permutation(len(val_texts))\n",
    "trn_idx[:3], val_idx[:3]"
   ]
  },
  {
   "cell_type": "code",
   "execution_count": 10,
   "metadata": {},
   "outputs": [],
   "source": [
    "trn_texts = trn_texts[trn_idx]\n",
    "val_texts = val_texts[val_idx]\n",
    "\n",
    "trn_labels = trn_labels[trn_idx]\n",
    "val_labels = val_labels[val_idx]"
   ]
  },
  {
   "cell_type": "markdown",
   "metadata": {},
   "source": [
    "### Create dataframe to get into a CSV mode. CSV is the merging \"standard\" for NLP datasets"
   ]
  },
  {
   "cell_type": "markdown",
   "metadata": {},
   "source": [
    "_The pandas dataframe is used to store text data in a newly evolving standard format of label followed by text columns. This was influenced by a paper by Yann LeCun (LINK REQUIRED). Fastai adopts this new format for NLP datasets. In the case of IMDB, there is only one text column._"
   ]
  },
  {
   "cell_type": "code",
   "execution_count": 11,
   "metadata": {},
   "outputs": [],
   "source": [
    "col_names = ['labels', 'text']"
   ]
  },
  {
   "cell_type": "code",
   "execution_count": 12,
   "metadata": {},
   "outputs": [],
   "source": [
    "df_trn = pd.DataFrame({'text' : trn_texts, 'labels' : trn_labels}, columns=col_names)\n",
    "df_val = pd.DataFrame({'text' : val_texts, 'labels' : val_labels}, columns=col_names)"
   ]
  },
  {
   "cell_type": "code",
   "execution_count": 13,
   "metadata": {},
   "outputs": [
    {
     "data": {
      "text/html": [
       "<div>\n",
       "<style scoped>\n",
       "    .dataframe tbody tr th:only-of-type {\n",
       "        vertical-align: middle;\n",
       "    }\n",
       "\n",
       "    .dataframe tbody tr th {\n",
       "        vertical-align: top;\n",
       "    }\n",
       "\n",
       "    .dataframe thead th {\n",
       "        text-align: right;\n",
       "    }\n",
       "</style>\n",
       "<table border=\"1\" class=\"dataframe\">\n",
       "  <thead>\n",
       "    <tr style=\"text-align: right;\">\n",
       "      <th></th>\n",
       "      <th>labels</th>\n",
       "      <th>text</th>\n",
       "    </tr>\n",
       "  </thead>\n",
       "  <tbody>\n",
       "    <tr>\n",
       "      <th>0</th>\n",
       "      <td>2</td>\n",
       "      <td>I love all of Linda Howard's books, and was th...</td>\n",
       "    </tr>\n",
       "    <tr>\n",
       "      <th>1</th>\n",
       "      <td>0</td>\n",
       "      <td>&lt;br /&gt;&lt;br /&gt;An old man works as a janitor in a...</td>\n",
       "    </tr>\n",
       "    <tr>\n",
       "      <th>2</th>\n",
       "      <td>1</td>\n",
       "      <td>They should have named this movie ...Blonde wo...</td>\n",
       "    </tr>\n",
       "    <tr>\n",
       "      <th>3</th>\n",
       "      <td>2</td>\n",
       "      <td>An old grandfather, Don Plutarco plays the vio...</td>\n",
       "    </tr>\n",
       "    <tr>\n",
       "      <th>4</th>\n",
       "      <td>2</td>\n",
       "      <td>At first, I actually had no idea that Billy Bl...</td>\n",
       "    </tr>\n",
       "  </tbody>\n",
       "</table>\n",
       "</div>"
      ],
      "text/plain": [
       "   labels                                               text\n",
       "0       2  I love all of Linda Howard's books, and was th...\n",
       "1       0  <br /><br />An old man works as a janitor in a...\n",
       "2       1  They should have named this movie ...Blonde wo...\n",
       "3       2  An old grandfather, Don Plutarco plays the vio...\n",
       "4       2  At first, I actually had no idea that Billy Bl..."
      ]
     },
     "execution_count": 13,
     "metadata": {},
     "output_type": "execute_result"
    }
   ],
   "source": [
    "df_trn.head()"
   ]
  },
  {
   "cell_type": "code",
   "execution_count": 14,
   "metadata": {},
   "outputs": [
    {
     "data": {
      "text/html": [
       "<div>\n",
       "<style scoped>\n",
       "    .dataframe tbody tr th:only-of-type {\n",
       "        vertical-align: middle;\n",
       "    }\n",
       "\n",
       "    .dataframe tbody tr th {\n",
       "        vertical-align: top;\n",
       "    }\n",
       "\n",
       "    .dataframe thead th {\n",
       "        text-align: right;\n",
       "    }\n",
       "</style>\n",
       "<table border=\"1\" class=\"dataframe\">\n",
       "  <thead>\n",
       "    <tr style=\"text-align: right;\">\n",
       "      <th></th>\n",
       "      <th>labels</th>\n",
       "      <th>text</th>\n",
       "    </tr>\n",
       "  </thead>\n",
       "  <tbody>\n",
       "    <tr>\n",
       "      <th>0</th>\n",
       "      <td>1</td>\n",
       "      <td>Hey if people thought ed wood was a bad direct...</td>\n",
       "    </tr>\n",
       "    <tr>\n",
       "      <th>1</th>\n",
       "      <td>1</td>\n",
       "      <td>Bottom-of-the-barrel stinker is so bad it's be...</td>\n",
       "    </tr>\n",
       "    <tr>\n",
       "      <th>2</th>\n",
       "      <td>1</td>\n",
       "      <td>The Women (2008) by Diane English is sadly suc...</td>\n",
       "    </tr>\n",
       "    <tr>\n",
       "      <th>3</th>\n",
       "      <td>0</td>\n",
       "      <td>Great movie. Post-apocalyptic films kick ass. ...</td>\n",
       "    </tr>\n",
       "    <tr>\n",
       "      <th>4</th>\n",
       "      <td>0</td>\n",
       "      <td>From a bare description of THE TOLL GATE's maj...</td>\n",
       "    </tr>\n",
       "  </tbody>\n",
       "</table>\n",
       "</div>"
      ],
      "text/plain": [
       "   labels                                               text\n",
       "0       1  Hey if people thought ed wood was a bad direct...\n",
       "1       1  Bottom-of-the-barrel stinker is so bad it's be...\n",
       "2       1  The Women (2008) by Diane English is sadly suc...\n",
       "3       0  Great movie. Post-apocalyptic films kick ass. ...\n",
       "4       0  From a bare description of THE TOLL GATE's maj..."
      ]
     },
     "execution_count": 14,
     "metadata": {},
     "output_type": "execute_result"
    }
   ],
   "source": [
    "df_val.head()"
   ]
  },
  {
   "cell_type": "markdown",
   "metadata": {},
   "source": [
    "#### Remove 'unsup' reviews from training (val doesn't have them), before writing to CSV"
   ]
  },
  {
   "cell_type": "code",
   "execution_count": 15,
   "metadata": {},
   "outputs": [],
   "source": [
    "df_trn[df_trn['labels'] != 2].to_csv(CLASF_PATH/'train.csv', header=False, index=False)\n",
    "df_val.to_csv(CLASF_PATH/'test.csv', header=False, index=False)\n",
    "\n",
    "(CLASF_PATH/'classes.txt').open('w').writelines(f'{c}\\n' for c in CLASSES)"
   ]
  },
  {
   "cell_type": "code",
   "execution_count": null,
   "metadata": {},
   "outputs": [],
   "source": []
  },
  {
   "cell_type": "markdown",
   "metadata": {},
   "source": [
    "## Language model"
   ]
  },
  {
   "cell_type": "markdown",
   "metadata": {},
   "source": [
    "We start by creating the data for the Language Model(LM). The LM's goal is to learn the structure of the english language. It learns language by trying to predict the next word given a set of previous words(ngrams). Since the LM does not classify reviews, the labels can be ignored.\n",
    "\n",
    "The LM can benefit from all the textual data and there is no need to exclude the unsup/unclassified movie reviews.\n",
    "We first concat all the train(pos/neg/unsup = 75k) and test(pos/neg=25k) reviews into a big chunk of 100k reviews. \n",
    "\n",
    "And then we use sklearn splitter to divide up the 100k texts into 90% training and 10% validation sets."
   ]
  },
  {
   "cell_type": "code",
   "execution_count": 16,
   "metadata": {},
   "outputs": [],
   "source": [
    "trn_texts, val_texts = sklearn.model_selection.train_test_split(np.concatenate([trn_texts, val_texts]), test_size=0.1)"
   ]
  },
  {
   "cell_type": "code",
   "execution_count": 17,
   "metadata": {},
   "outputs": [
    {
     "data": {
      "text/plain": [
       "(90000, 10000)"
      ]
     },
     "execution_count": 17,
     "metadata": {},
     "output_type": "execute_result"
    }
   ],
   "source": [
    "len(trn_texts), len(val_texts)"
   ]
  },
  {
   "cell_type": "code",
   "execution_count": 18,
   "metadata": {},
   "outputs": [],
   "source": [
    "df_trn = pd.DataFrame({'text': trn_texts, 'labels': [0] * len(trn_texts)}, columns=col_names) # labels are note relvant for the LANG model\n",
    "df_val = pd.DataFrame({'text': val_texts, 'labels': [0] * len(val_texts)}, columns=col_names)\n",
    "\n",
    "df_trn.to_csv(LANG_M_PATH/'train.csv', header=False, index=False)\n",
    "df_val.to_csv(LANG_M_PATH/'test.csv', header=False, index=False)"
   ]
  },
  {
   "cell_type": "markdown",
   "metadata": {},
   "source": [
    "### Language token"
   ]
  },
  {
   "cell_type": "markdown",
   "metadata": {},
   "source": [
    "In this section, we start cleaning up the messy text. There are 2 main activities we need to perform:\n",
    "\n",
    "1. Clean up extra spaces, tab chars, new ln chars and other characters and replace them with standard ones\n",
    "2. Use the awesome [spacy](http://spacy.io) library to tokenize the data. Since spacy does not provide a parallel/multicore version of the tokenizer, the fastai library adds this functionality. This parallel version uses all the cores of your CPUs and runs much faster than the serial version of the spacy tokenizer.\n",
    "\n",
    "Tokenization is the process of splitting the text into separate tokens so that each token can be assigned a unique index. This means we can convert the text into integer indexes our models can use.\n",
    "\n",
    "We use an appropriate chunksize as the tokenization process is memory intensive"
   ]
  },
  {
   "cell_type": "code",
   "execution_count": 19,
   "metadata": {},
   "outputs": [],
   "source": [
    "def fixup(x):\n",
    "    \"\"\"\n",
    "    Clean up text\n",
    "    \"\"\"\n",
    "    rex = re.compile(r'  +')\n",
    "    \n",
    "    x = x.replace('#39;', \"'\").replace('amp;', '&').replace('#146;', \"'\").replace(\n",
    "        'nbsp;', ' ').replace('#36;', '$').replace('\\\\n', \"\\n\").replace('quot;', \"'\").replace(\n",
    "        '<br />', \"\\n\").replace('\\\\\"', '\"').replace('<unk>','u_n').replace(' @.@ ','.').replace(\n",
    "        ' @-@ ','-').replace('\\\\', ' \\\\ ')\n",
    "    return rex.sub(' ', html.unescape(x))"
   ]
  },
  {
   "cell_type": "code",
   "execution_count": null,
   "metadata": {},
   "outputs": [],
   "source": []
  },
  {
   "cell_type": "code",
   "execution_count": 20,
   "metadata": {},
   "outputs": [],
   "source": [
    "# def get_text(df_chunk, no_lbls=1):\n",
    "#     labels = df_chunk.iloc[:, range(no_lbls)].values.astype(np.int64) # convert labels to int\n",
    "#     texts = f'\\n{BOS} {FLD} 1 ' + df_chunk[no_lbls].astype(str) # set the start of sequence/field markers for the 1st string\n",
    "#     print(f'df_chunk len : {len(df_chunk.columns)} lbls : {no_lbls}')\n",
    "#     for i in range(no_lbls + 1, len(df_chunk.columns)):\n",
    "#         print(f'****i : {i}')\n",
    "#         texts += f' {FLD} {i - no_lbls} ' + df_chunk[i].astype(str)\n",
    "        \n",
    "#     texts = texts.apply(fixup).values.astype(str) # fix the weird charcters\n",
    "    \n",
    "#     tok = Tokenizer().proc_all_mp(partition_by_cores(texts)) # parallelize by cores. Would run in mins vs hours\n",
    "#     return tok, list(labels)"
   ]
  },
  {
   "cell_type": "code",
   "execution_count": 21,
   "metadata": {},
   "outputs": [],
   "source": [
    "# def get_all(chunks, no_lbls):\n",
    "#     tok, lbls = [], []\n",
    "#     for chunk_no, txt in enumerate(chunks):\n",
    "#         print(f'chunk : {chunk_no} col len : {len(txt.columns)}') \n",
    "#         tok_, labels = get_text(txt, no_lbls)\n",
    "#         tok += tok_\n",
    "#         lbls += labels\n",
    "        \n",
    "#     return tok_, labels\n",
    "        "
   ]
  },
  {
   "cell_type": "code",
   "execution_count": null,
   "metadata": {},
   "outputs": [],
   "source": []
  },
  {
   "cell_type": "code",
   "execution_count": 22,
   "metadata": {},
   "outputs": [],
   "source": [
    "def get_texts(df, n_lbls=1):\n",
    "    labels = df.iloc[:,range(n_lbls)].values.astype(np.int64)\n",
    "    texts = f'\\n{BOS} {FLD} 1 ' + df[n_lbls].astype(str)\n",
    "    for i in range(n_lbls+1, len(df.columns)): \n",
    "        print(f'****i : {i}')\n",
    "        texts += f' {FLD} {i-n_lbls} ' + df[i].astype(str)\n",
    "    texts = texts.apply(fixup).values.astype(str)\n",
    "\n",
    "    tok = Tokenizer().proc_all_mp(partition_by_cores(texts))\n",
    "    return tok, list(labels)"
   ]
  },
  {
   "cell_type": "code",
   "execution_count": 23,
   "metadata": {},
   "outputs": [],
   "source": [
    "def get_all(df, n_lbls):\n",
    "    tok, labels = [], []\n",
    "    for i, r in enumerate(df):\n",
    "        print(i)\n",
    "        tok_, labels_ = get_texts(r, n_lbls)\n",
    "        tok += tok_;\n",
    "        labels += labels_\n",
    "    return tok, labels"
   ]
  },
  {
   "cell_type": "code",
   "execution_count": 24,
   "metadata": {},
   "outputs": [],
   "source": [
    "chunksize = 24000"
   ]
  },
  {
   "cell_type": "code",
   "execution_count": 25,
   "metadata": {},
   "outputs": [],
   "source": [
    "df_trn_chunks = pd.read_csv(LANG_M_PATH/'train.csv', header=None, chunksize=chunksize)\n",
    "df_val_chunks = pd.read_csv(LANG_M_PATH/'test.csv', header=None, chunksize=chunksize)"
   ]
  },
  {
   "cell_type": "code",
   "execution_count": 26,
   "metadata": {},
   "outputs": [],
   "source": [
    "# df_trn_chunks.get_chunk().head()"
   ]
  },
  {
   "cell_type": "code",
   "execution_count": 27,
   "metadata": {},
   "outputs": [
    {
     "name": "stdout",
     "output_type": "stream",
     "text": [
      "0\n",
      "1\n",
      "2\n",
      "3\n",
      "0\n"
     ]
    }
   ],
   "source": [
    "tok_trn, trn_labels = get_all(df_trn_chunks, 1)\n",
    "tok_val, val_labels = get_all(df_val_chunks, 1)"
   ]
  },
  {
   "cell_type": "code",
   "execution_count": 28,
   "metadata": {},
   "outputs": [
    {
     "data": {
      "text/plain": [
       "90000"
      ]
     },
     "execution_count": 28,
     "metadata": {},
     "output_type": "execute_result"
    }
   ],
   "source": [
    "len(tok_trn)"
   ]
  },
  {
   "cell_type": "code",
   "execution_count": 29,
   "metadata": {},
   "outputs": [
    {
     "data": {
      "text/plain": [
       "[['\\n',\n",
       "  'xbos',\n",
       "  'xfld',\n",
       "  '1',\n",
       "  'just',\n",
       "  'to',\n",
       "  'make',\n",
       "  'it',\n",
       "  'clear',\n",
       "  ':',\n",
       "  'yes',\n",
       "  ',',\n",
       "  'i',\n",
       "  'think',\n",
       "  'that',\n",
       "  'this',\n",
       "  'film',\n",
       "  'tells',\n",
       "  'an',\n",
       "  'important',\n",
       "  'story',\n",
       "  'but',\n",
       "  'am',\n",
       "  'i',\n",
       "  'the',\n",
       "  'only',\n",
       "  'one',\n",
       "  'who',\n",
       "  'had',\n",
       "  'the',\n",
       "  'feeling',\n",
       "  'that',\n",
       "  'this',\n",
       "  'film',\n",
       "  'is',\n",
       "  'mostly',\n",
       "  'about',\n",
       "  'it',\n",
       "  \"'s\",\n",
       "  'director',\n",
       "  '?',\n",
       "  'there',\n",
       "  'are',\n",
       "  'so',\n",
       "  'many',\n",
       "  'scenes',\n",
       "  'where',\n",
       "  'we',\n",
       "  'just',\n",
       "  'see',\n",
       "  'him',\n",
       "  'sitting',\n",
       "  ',',\n",
       "  'standing',\n",
       "  'or',\n",
       "  'filming',\n",
       "  'somewhere',\n",
       "  'and',\n",
       "  '...',\n",
       "  'well',\n",
       "  ',',\n",
       "  'he',\n",
       "  'also',\n",
       "  'likes',\n",
       "  'to',\n",
       "  'be',\n",
       "  'filmed',\n",
       "  'without',\n",
       "  'a',\n",
       "  't',\n",
       "  '-',\n",
       "  'shirt',\n",
       "  '.',\n",
       "  'specially',\n",
       "  'the',\n",
       "  'whole',\n",
       "  'sequence',\n",
       "  'about',\n",
       "  'him',\n",
       "  'in',\n",
       "  'hospital',\n",
       "  'and',\n",
       "  'that',\n",
       "  'he',\n",
       "  'might',\n",
       "  'loose',\n",
       "  'his',\n",
       "  'leg',\n",
       "  '.',\n",
       "  'it',\n",
       "  'pretty',\n",
       "  'much',\n",
       "  'seems',\n",
       "  'like',\n",
       "  'a',\n",
       "  'chance',\n",
       "  'to',\n",
       "  'expand',\n",
       "  'the',\n",
       "  'whole',\n",
       "  'film',\n",
       "  'to',\n",
       "  'feature',\n",
       "  'film',\n",
       "  'lenght',\n",
       "  'and',\n",
       "  'be',\n",
       "  'seen',\n",
       "  'even',\n",
       "  'more',\n",
       "  'on',\n",
       "  'screen',\n",
       "  '(',\n",
       "  'without',\n",
       "  'a',\n",
       "  't',\n",
       "  '-',\n",
       "  'shirt',\n",
       "  ')',\n",
       "  '.',\n",
       "  'much',\n",
       "  'seemed',\n",
       "  'to',\n",
       "  'be',\n",
       "  'staged',\n",
       "  'or',\n",
       "  'shot',\n",
       "  'separately',\n",
       "  'and',\n",
       "  'then',\n",
       "  'cut',\n",
       "  'together',\n",
       "  '.',\n",
       "  'my',\n",
       "  'opinion',\n",
       "  ':',\n",
       "  'important',\n",
       "  'content',\n",
       "  'but',\n",
       "  'way',\n",
       "  'too',\n",
       "  'much',\n",
       "  'rob',\n",
       "  'stewart',\n",
       "  'in',\n",
       "  'it',\n",
       "  '.'],\n",
       " ['\\n',\n",
       "  'xbos',\n",
       "  'xfld',\n",
       "  '1',\n",
       "  '...',\n",
       "  'must',\n",
       "  'admit',\n",
       "  'well',\n",
       "  'acted',\n",
       "  ',',\n",
       "  'but',\n",
       "  '\"',\n",
       "  'dark',\n",
       "  '\"',\n",
       "  '&',\n",
       "  'depressing',\n",
       "  'film',\n",
       "  'portraying',\n",
       "  'a',\n",
       "  'wannabe',\n",
       "  'stand',\n",
       "  '-',\n",
       "  'up',\n",
       "  '\"',\n",
       "  'comic',\n",
       "  '\"',\n",
       "  'tk_rep',\n",
       "  '4',\n",
       "  '.',\n",
       "  'with',\n",
       "  'no',\n",
       "  'clue',\n",
       "  'toward',\n",
       "  'humour',\n",
       "  '.',\n",
       "  'viewed',\n",
       "  'this',\n",
       "  'film',\n",
       "  'at',\n",
       "  'the',\n",
       "  'stony',\n",
       "  'brook',\n",
       "  'film',\n",
       "  'festival',\n",
       "  '.',\n",
       "  'one',\n",
       "  'of',\n",
       "  'a',\n",
       "  '\"',\n",
       "  'book',\n",
       "  '-',\n",
       "  'end',\n",
       "  '\"',\n",
       "  'weekend',\n",
       "  'topping',\n",
       "  'off',\n",
       "  'another',\n",
       "  'frank',\n",
       "  'whaley',\n",
       "  'vehicle',\n",
       "  '...',\n",
       "  '\"',\n",
       "  'the',\n",
       "  'pursuit',\n",
       "  'of',\n",
       "  'happiness',\n",
       "  '\"',\n",
       "  '.',\n",
       "  'frank',\n",
       "  '(',\n",
       "  'and',\n",
       "  'his',\n",
       "  'brother',\n",
       "  'robert',\n",
       "  ',',\n",
       "  'as',\n",
       "  'his',\n",
       "  'tops',\n",
       "  'boss',\n",
       "  'mr',\n",
       "  '.',\n",
       "  'slocum',\n",
       "  ')',\n",
       "  '&',\n",
       "  'his',\n",
       "  'buddy',\n",
       "  'ethan',\n",
       "  'hawke',\n",
       "  'stand',\n",
       "  'out',\n",
       "  'in',\n",
       "  'this',\n",
       "  'film',\n",
       "  'as',\n",
       "  'hopeless',\n",
       "  '\"',\n",
       "  'common',\n",
       "  'men',\n",
       "  '\"',\n",
       "  '...',\n",
       "  'stuck',\n",
       "  'in',\n",
       "  'a',\n",
       "  'rut',\n",
       "  'of',\n",
       "  'life',\n",
       "  \"'s\",\n",
       "  'problems',\n",
       "  'and',\n",
       "  'of',\n",
       "  'no',\n",
       "  'seeing',\n",
       "  'any',\n",
       "  'chance',\n",
       "  'of',\n",
       "  'rising',\n",
       "  'above',\n",
       "  'it',\n",
       "  '.',\n",
       "  'frank',\n",
       "  '(',\n",
       "  'jimmy',\n",
       "  \"o'brien\",\n",
       "  ')',\n",
       "  'sees',\n",
       "  'a',\n",
       "  'calling',\n",
       "  'as',\n",
       "  'a',\n",
       "  'stand',\n",
       "  'up',\n",
       "  'comic',\n",
       "  ',',\n",
       "  'but',\n",
       "  'a',\n",
       "  'mix',\n",
       "  'of',\n",
       "  'stage',\n",
       "  'fright',\n",
       "  'and',\n",
       "  'overwhelming',\n",
       "  'domestic',\n",
       "  'problems',\n",
       "  ',',\n",
       "  'put',\n",
       "  'him',\n",
       "  'in',\n",
       "  'a',\n",
       "  'trance',\n",
       "  ',',\n",
       "  'undermining',\n",
       "  'a',\n",
       "  '\"',\n",
       "  'true',\n",
       "  '\"',\n",
       "  'escape',\n",
       "  'from',\n",
       "  'his',\n",
       "  'downward',\n",
       "  'spiraling',\n",
       "  'life',\n",
       "  '.',\n",
       "  'see',\n",
       "  'it',\n",
       "  'for',\n",
       "  'the',\n",
       "  'acting',\n",
       "  '(',\n",
       "  'which',\n",
       "  'is',\n",
       "  'top',\n",
       "  'notch',\n",
       "  ')',\n",
       "  ',',\n",
       "  'but',\n",
       "  'as',\n",
       "  'with',\n",
       "  'earlier',\n",
       "  'comments',\n",
       "  ',',\n",
       "  'if',\n",
       "  'u',\n",
       "  'need',\n",
       "  'a',\n",
       "  'feel',\n",
       "  'good',\n",
       "  'and',\n",
       "  'less',\n",
       "  'tragic',\n",
       "  'movie',\n",
       "  'see',\n",
       "  'frank',\n",
       "  'whaley',\n",
       "  'in',\n",
       "  '\"',\n",
       "  'the',\n",
       "  'pursuit',\n",
       "  'of',\n",
       "  'happiness',\n",
       "  '\"',\n",
       "  '.']]"
      ]
     },
     "execution_count": 29,
     "metadata": {},
     "output_type": "execute_result"
    }
   ],
   "source": [
    "tok_trn[0:2]"
   ]
  },
  {
   "cell_type": "code",
   "execution_count": 30,
   "metadata": {},
   "outputs": [],
   "source": [
    "(LANG_M_PATH/'tmp').mkdir(exist_ok=True)"
   ]
  },
  {
   "cell_type": "code",
   "execution_count": 31,
   "metadata": {},
   "outputs": [],
   "source": [
    "np.save(LANG_M_PATH/'tmp/trn_tok.npy', tok_trn)\n",
    "np.save(LANG_M_PATH/'tmp/val_tok.npy', tok_val)"
   ]
  },
  {
   "cell_type": "code",
   "execution_count": 32,
   "metadata": {},
   "outputs": [],
   "source": [
    "freq = Counter(p for word in tok_trn for p in word)"
   ]
  },
  {
   "cell_type": "code",
   "execution_count": 33,
   "metadata": {},
   "outputs": [
    {
     "data": {
      "text/plain": [
       "[('the', 1208861),\n",
       " ('.', 992525),\n",
       " (',', 984709),\n",
       " ('and', 587716),\n",
       " ('a', 583890),\n",
       " ('of', 524765),\n",
       " ('to', 485160),\n",
       " ('is', 394193),\n",
       " ('it', 341753),\n",
       " ('in', 337305),\n",
       " ('i', 308563),\n",
       " ('this', 270605),\n",
       " ('that', 261105),\n",
       " ('\"', 236893),\n",
       " (\"'s\", 221569),\n",
       " ('-', 187912),\n",
       " ('was', 180858),\n",
       " ('\\n\\n', 179226),\n",
       " ('as', 165787),\n",
       " ('with', 159325),\n",
       " ('for', 158754),\n",
       " ('movie', 158069),\n",
       " ('but', 150211),\n",
       " ('film', 144265),\n",
       " ('you', 124192)]"
      ]
     },
     "execution_count": 33,
     "metadata": {},
     "output_type": "execute_result"
    }
   ],
   "source": [
    "freq.most_common(25)"
   ]
  },
  {
   "cell_type": "markdown",
   "metadata": {},
   "source": [
    "The *vocab* is the **unique set of all tokens** in our dataset. The vocab provides us a way for us to simply replace each word in our datasets with a unique integer called an index.\n",
    "\n",
    "In a large corpus of data one might find some rare words which are only **used a few times** in the whole dataset. We **discard such rare words and avoid trying to learn meaningful patterns out of them**.\n",
    "\n",
    "Here we have set a minimum frequency of occurence to 2 times. It has been observed by **NLP practicioners that a maximum vocab of 60k** usually yields good results for classification tasks. So we set maz_vocab to 60000."
   ]
  },
  {
   "cell_type": "code",
   "execution_count": 34,
   "metadata": {},
   "outputs": [],
   "source": [
    "max_vocab = 60000\n",
    "min_freq = 2"
   ]
  },
  {
   "cell_type": "code",
   "execution_count": 35,
   "metadata": {},
   "outputs": [],
   "source": [
    "itos = [w for w, c in freq.most_common(max_vocab) if c > min_freq]\n",
    "itos.insert(0, '_pad_')\n",
    "itos.insert(0, '_unk_')"
   ]
  },
  {
   "cell_type": "code",
   "execution_count": 36,
   "metadata": {},
   "outputs": [
    {
     "data": {
      "text/plain": [
       "['_unk_', '_pad_', 'the', '.', ',']"
      ]
     },
     "execution_count": 36,
     "metadata": {},
     "output_type": "execute_result"
    }
   ],
   "source": [
    "itos[:5]"
   ]
  },
  {
   "cell_type": "markdown",
   "metadata": {},
   "source": [
    "We create a reverse mapping called stoi which is useful to lookup the index of a given token. stoi also has the same number of elements as itos. We use a high performance container called [collections.defaultdict](https://docs.python.org/2/library/collections.html#collections.defaultdict) to store our stoi mapping."
   ]
  },
  {
   "cell_type": "code",
   "execution_count": 37,
   "metadata": {},
   "outputs": [
    {
     "data": {
      "text/plain": [
       "60002"
      ]
     },
     "execution_count": 37,
     "metadata": {},
     "output_type": "execute_result"
    }
   ],
   "source": [
    "stoi = collections.defaultdict(lambda:0, {v:k for k, v in enumerate(itos)})\n",
    "len(stoi)"
   ]
  },
  {
   "cell_type": "code",
   "execution_count": 38,
   "metadata": {},
   "outputs": [
    {
     "data": {
      "text/plain": [
       "[('_unk_', 0),\n",
       " ('_pad_', 1),\n",
       " ('the', 2),\n",
       " ('.', 3),\n",
       " (',', 4),\n",
       " ('and', 5),\n",
       " ('a', 6),\n",
       " ('of', 7),\n",
       " ('to', 8),\n",
       " ('is', 9),\n",
       " ('it', 10),\n",
       " ('in', 11),\n",
       " ('i', 12),\n",
       " ('this', 13),\n",
       " ('that', 14)]"
      ]
     },
     "execution_count": 38,
     "metadata": {},
     "output_type": "execute_result"
    }
   ],
   "source": [
    "list(stoi.items())[:15]"
   ]
  },
  {
   "cell_type": "code",
   "execution_count": 39,
   "metadata": {},
   "outputs": [],
   "source": [
    "trn_lm = [[stoi[o] for o in w] for w in tok_trn]\n",
    "val_lm = [[stoi[o] for o in w] for w in tok_val]"
   ]
  },
  {
   "cell_type": "code",
   "execution_count": 40,
   "metadata": {},
   "outputs": [
    {
     "data": {
      "text/plain": [
       "(90000, 10000)"
      ]
     },
     "execution_count": 40,
     "metadata": {},
     "output_type": "execute_result"
    }
   ],
   "source": [
    "len(trn_lm), len(val_lm)"
   ]
  },
  {
   "cell_type": "code",
   "execution_count": 41,
   "metadata": {},
   "outputs": [
    {
     "data": {
      "text/plain": [
       "[[40,\n",
       "  41,\n",
       "  42,\n",
       "  39,\n",
       "  56,\n",
       "  8,\n",
       "  110,\n",
       "  10,\n",
       "  737,\n",
       "  95,\n",
       "  443,\n",
       "  4,\n",
       "  12,\n",
       "  121,\n",
       "  14,\n",
       "  13,\n",
       "  25,\n",
       "  724,\n",
       "  47,\n",
       "  640,\n",
       "  80,\n",
       "  24,\n",
       "  256,\n",
       "  12,\n",
       "  2,\n",
       "  81,\n",
       "  38,\n",
       "  48,\n",
       "  84,\n",
       "  2,\n",
       "  576,\n",
       "  14,\n",
       "  13,\n",
       "  25,\n",
       "  9,\n",
       "  687,\n",
       "  58,\n",
       "  10,\n",
       "  16,\n",
       "  169,\n",
       "  65,\n",
       "  53,\n",
       "  33,\n",
       "  51,\n",
       "  128,\n",
       "  155,\n",
       "  134,\n",
       "  89,\n",
       "  56,\n",
       "  83,\n",
       "  107,\n",
       "  1331,\n",
       "  4,\n",
       "  2026,\n",
       "  54,\n",
       "  1428,\n",
       "  1293,\n",
       "  5,\n",
       "  91,\n",
       "  88,\n",
       "  4,\n",
       "  34,\n",
       "  102,\n",
       "  1200,\n",
       "  8,\n",
       "  37,\n",
       "  765,\n",
       "  229,\n",
       "  6,\n",
       "  2344,\n",
       "  17,\n",
       "  3628,\n",
       "  3,\n",
       "  5175,\n",
       "  2,\n",
       "  238,\n",
       "  725,\n",
       "  58,\n",
       "  107,\n",
       "  11,\n",
       "  1499,\n",
       "  5,\n",
       "  14,\n",
       "  34,\n",
       "  253,\n",
       "  1709,\n",
       "  35,\n",
       "  3858,\n",
       "  3,\n",
       "  10,\n",
       "  206,\n",
       "  93,\n",
       "  209,\n",
       "  52,\n",
       "  6,\n",
       "  613,\n",
       "  8,\n",
       "  9729,\n",
       "  2,\n",
       "  238,\n",
       "  25,\n",
       "  8,\n",
       "  817,\n",
       "  25,\n",
       "  34620,\n",
       "  5,\n",
       "  37,\n",
       "  130,\n",
       "  75,\n",
       "  67,\n",
       "  28,\n",
       "  277,\n",
       "  30,\n",
       "  229,\n",
       "  6,\n",
       "  2344,\n",
       "  17,\n",
       "  3628,\n",
       "  27,\n",
       "  3,\n",
       "  93,\n",
       "  484,\n",
       "  8,\n",
       "  37,\n",
       "  3722,\n",
       "  54,\n",
       "  343,\n",
       "  12512,\n",
       "  5,\n",
       "  114,\n",
       "  607,\n",
       "  310,\n",
       "  3,\n",
       "  76,\n",
       "  678,\n",
       "  95,\n",
       "  640,\n",
       "  1525,\n",
       "  24,\n",
       "  115,\n",
       "  116,\n",
       "  93,\n",
       "  2445,\n",
       "  1797,\n",
       "  11,\n",
       "  10,\n",
       "  3]]"
      ]
     },
     "execution_count": 41,
     "metadata": {},
     "output_type": "execute_result"
    }
   ],
   "source": [
    "trn_lm[:1]"
   ]
  },
  {
   "cell_type": "code",
   "execution_count": 42,
   "metadata": {},
   "outputs": [],
   "source": [
    "np.save(LANG_M_PATH/'tmp/trn_ids.npy', trn_lm)\n",
    "np.save(LANG_M_PATH/'tmp/val_ids.npy', val_lm)\n",
    "pickle.dump(itos, open(LANG_M_PATH/'tmp/itos.pkl', 'wb'))"
   ]
  },
  {
   "cell_type": "code",
   "execution_count": 43,
   "metadata": {},
   "outputs": [],
   "source": [
    "trn_lm = np.load(LANG_M_PATH/'tmp'/'trn_ids.npy')\n",
    "val_lm = np.load(LANG_M_PATH/'tmp'/'val_ids.npy')\n",
    "itos = pickle.load(open(LANG_M_PATH/'tmp'/'itos.pkl', 'rb'))"
   ]
  },
  {
   "cell_type": "code",
   "execution_count": 44,
   "metadata": {},
   "outputs": [
    {
     "data": {
      "text/plain": [
       "(60002, 90000)"
      ]
     },
     "execution_count": 44,
     "metadata": {},
     "output_type": "execute_result"
    }
   ],
   "source": [
    "vocab_s = len(itos)\n",
    "vocab_s, len(trn_lm)"
   ]
  },
  {
   "cell_type": "code",
   "execution_count": null,
   "metadata": {},
   "outputs": [],
   "source": []
  },
  {
   "cell_type": "markdown",
   "metadata": {},
   "source": [
    "## Wiketext103 conversion"
   ]
  },
  {
   "cell_type": "markdown",
   "metadata": {},
   "source": [
    "We are now going to build an english language model for the IMDB corpus. We could start from scratch and try to learn the structure of the english language. But we use a technique called transfer learning to make this process easier. In transfer learning (a fairly recent idea for NLP) a pre-trained LM that has been trained on a large generic corpus(_like wikipedia articles_) can be used to transfer it's knowledge to a target LM and the weights can be fine-tuned.\n",
    "\n",
    "Our source LM is the wikitext103 LM created by Stephen Merity @ Salesforce research. [Link to dataset](https://www.salesforce.com/products/einstein/ai-research/the-wikitext-dependency-language-modeling-dataset/)\n",
    "The language model for wikitext103 (AWD LSTM) has been pre-trained and the weights can be downloaded here: [Link](http://files.fast.ai/models/wt103/). Our target LM is the IMDB LM. "
   ]
  },
  {
   "cell_type": "markdown",
   "metadata": {},
   "source": [
    "The pre-trained LM weights have an `embedding size of 400, 1150 hidden units and just 3 layers`. We need to match these values  with the target IMDB LM so that the weights can be loaded up."
   ]
  },
  {
   "cell_type": "code",
   "execution_count": 45,
   "metadata": {},
   "outputs": [],
   "source": [
    "em_sz, n_hidden, n_layers = 400, 1150, 3"
   ]
  },
  {
   "cell_type": "code",
   "execution_count": 46,
   "metadata": {},
   "outputs": [],
   "source": [
    "PRE_PATH = PATH/'models'/'wt103'\n",
    "PRE_LM_PATH = PRE_PATH/'fwd_wt103.h5'"
   ]
  },
  {
   "cell_type": "code",
   "execution_count": 49,
   "metadata": {},
   "outputs": [],
   "source": [
    "wgts = torch.load(PRE_LM_PATH, map_location=lambda storage, loc: storage )"
   ]
  },
  {
   "cell_type": "markdown",
   "metadata": {},
   "source": [
    "We calculate the _mean of the layer0 encoder weights_. This can be used to **assign weights to unknown tokens** when we transfer to target IMDB LM."
   ]
  },
  {
   "cell_type": "code",
   "execution_count": 50,
   "metadata": {},
   "outputs": [],
   "source": [
    "enc_wgts = to_np(wgts['0.encoder.weight'])\n",
    "enc_wgts_m = enc_wgts.mean(0)"
   ]
  },
  {
   "cell_type": "code",
   "execution_count": 52,
   "metadata": {},
   "outputs": [],
   "source": [
    "witos = pickle.load((PRE_PATH/'itos_wt103.pkl').open('rb'))\n",
    "wstoi = collections.defaultdict(lambda: -1, {v:k for k, v in enumerate(witos)})"
   ]
  },
  {
   "cell_type": "markdown",
   "metadata": {},
   "source": [
    "Before we try to transfer the knowledge from wikitext to the IMDB LM, we match up the vocab words and their indexes. \n",
    "We use the defaultdict container once again, **to assign mean weights to unknown IMDB tokens that do not exist in wikitext103.**"
   ]
  },
  {
   "cell_type": "code",
   "execution_count": 57,
   "metadata": {},
   "outputs": [],
   "source": [
    "new_w = np.zeros((vocab_s, em_sz), dtype=np.float32)\n",
    "for idx, word in enumerate(itos):\n",
    "    w_word_idx = wstoi[word]\n",
    "    new_w[idx] = enc_wgts[w_word_idx] if w_word_idx >= 0 else enc_wgts_m"
   ]
  },
  {
   "cell_type": "markdown",
   "metadata": {},
   "source": [
    "We now overwrite the weights into the wgts odict.\n",
    "The decoder module, which we will explore in detail is also loaded with the same weights due to an idea called `weight tying`."
   ]
  },
  {
   "cell_type": "code",
   "execution_count": 58,
   "metadata": {},
   "outputs": [],
   "source": [
    "wgts['0.encoder.weight'] = T(new_w)\n",
    "wgts['0.encoder_with_dropout.embed.weight'] = T(np.copy(new_w))\n",
    "wgts['1.decoder.weight'] = T(np.copy(new_w))"
   ]
  },
  {
   "cell_type": "markdown",
   "metadata": {},
   "source": [
    "# Language mode"
   ]
  },
  {
   "cell_type": "markdown",
   "metadata": {},
   "source": [
    "It is fairly straightforward to create a new language model using the fastai library. Like every other lesson, our model will have a backbone and a custom head. The backbone in our case is the IMDB LM pre-trained with wikitext and the custom head is a linear classifier. In this section we will focus on the backbone LM and the next section will talk about the classifier custom head.\n",
    "\n",
    "bptt (*also known traditionally in NLP LM as ngrams*) in fastai LMs is approximated to a std. deviation around 70, by perturbing the sequence length on a per-batch basis. This is akin to shuffling our data in computer vision, only that in NLP we cannot shuffle inputs and we have to maintain statefulness. \n",
    "\n",
    "Since we are predicting words using ngrams, we want our next batch to line up with the end-points of the previous mini-batch's items. batch-size is constant and but the fastai library expands and contracts bptt each mini-batch using a clever stochastic implementation of a batch. (original credits attributed to [Smerity](https://twitter.com/jeremyphoward/status/980227258395770882))"
   ]
  },
  {
   "cell_type": "code",
   "execution_count": 59,
   "metadata": {},
   "outputs": [],
   "source": [
    "wd = 1e-7\n",
    "bptt = 70\n",
    "bs = 52\n",
    "opt_fn = partial(optim.Adam, betas=(0.8, 0.99))"
   ]
  },
  {
   "cell_type": "markdown",
   "metadata": {},
   "source": [
    "The goal of the LM is to learn to predict a word/token given a preceeding set of words(tokens). We take all the movie reviews in both the 90k training set and 10k validation set and concatenate them to form long strings of tokens. In fastai, we use the `LanguageModelLoader` to create a data loader which makes it easy to create and use bptt sized mini batches. The  `LanguageModelLoader` takes a concatenated string of tokens and returns a loader.\n",
    "\n",
    "We have a special modeldata object class for LMs called `LanguageModelData` to which we can pass the training and validation loaders and get in return the model itself."
   ]
  },
  {
   "cell_type": "code",
   "execution_count": null,
   "metadata": {},
   "outputs": [],
   "source": [
    "trn_dl = LanguageModelLoader(np.concatenate(trn_lm), bs, bptt)\n",
    "val_dl = LanguageModelLoader(np.concatenate(val_lm), bs, bptt)\n",
    "md = LanguageModelData(PATH, 1, vs, trn_dl, val_dl, bs=bs, bptt=bptt)"
   ]
  },
  {
   "cell_type": "markdown",
   "metadata": {},
   "source": [
    "We setup the dropouts for the model - these values have been chosen after experimentation. If you need to update them for custom LMs, you can change the weighting factor (0.7 here) based on the amount of data you have. For more data, you can reduce dropout factor and for small datasets, you can reduce overfitting by choosing a higher dropout factor. *No other dropout value requires tuning*"
   ]
  },
  {
   "cell_type": "code",
   "execution_count": 16,
   "metadata": {},
   "outputs": [],
   "source": [
    "drops = np.array([0.25, 0.1, 0.2, 0.02, 0.15])*0.7"
   ]
  },
  {
   "cell_type": "markdown",
   "metadata": {},
   "source": [
    "We first tune the last embedding layer so that the missing tokens initialized with mean weights get tuned properly. So we freeze everything except the last layer.\n",
    "\n",
    "We also keep track of the *accuracy* metric."
   ]
  },
  {
   "cell_type": "code",
   "execution_count": null,
   "metadata": {},
   "outputs": [],
   "source": [
    "learner = md.get_model(opt_fn, em_sz, nh, nl, \n",
    "                       dropouti=drops[0], dropout=drops[1], wdrop=drops[2], dropoute=drops[3], dropouth=drops[4])\n",
    "learner.metrics = [accuracy]\n",
    "learner.freeze_to(-1)"
   ]
  },
  {
   "cell_type": "code",
   "execution_count": null,
   "metadata": {},
   "outputs": [],
   "source": [
    "learner.model.load_state_dict(wgts)"
   ]
  },
  {
   "cell_type": "markdown",
   "metadata": {},
   "source": [
    "We set learning rates and fit our IMDB LM. We first run one epoch to tune the last layer which contains the embedding weights. This should help the missing tokens in the wikitext103 learn better weights."
   ]
  },
  {
   "cell_type": "code",
   "execution_count": null,
   "metadata": {},
   "outputs": [],
   "source": [
    "lr = 1e-3\n",
    "lrs = lr"
   ]
  },
  {
   "cell_type": "raw",
   "metadata": {},
   "source": [
    "learner.fit(lrs/2, 1, wds=wd, use_clr=(32,2), cycle_len=1)"
   ]
  },
  {
   "cell_type": "markdown",
   "metadata": {},
   "source": [
    "Note that we print out accuracy and keep track of how often we end up predicting the target word correctly. While this is a good metric to check, it is not part of our loss function as it can get quite bumpy. We only minimize cross-entropy loss in the LM.\n",
    "\n",
    "The exponent of the cross-entropy loss is called the perplexity of the LM. (low perplexity is better)."
   ]
  },
  {
   "cell_type": "code",
   "execution_count": 36,
   "metadata": {},
   "outputs": [],
   "source": [
    "learner.save('lm_last_ft')"
   ]
  },
  {
   "cell_type": "code",
   "execution_count": 26,
   "metadata": {},
   "outputs": [],
   "source": [
    "learner.load('lm_last_ft')"
   ]
  },
  {
   "cell_type": "code",
   "execution_count": 21,
   "metadata": {},
   "outputs": [],
   "source": [
    "learner.unfreeze()"
   ]
  },
  {
   "cell_type": "code",
   "execution_count": 27,
   "metadata": {
    "collapsed": true
   },
   "outputs": [
    {
     "data": {
      "application/vnd.jupyter.widget-view+json": {
       "model_id": "1602776e4b864be99452869968c64a93",
       "version_major": 2,
       "version_minor": 0
      },
      "text/plain": [
       "A Jupyter Widget"
      ]
     },
     "metadata": {},
     "output_type": "display_data"
    },
    {
     "name": "stdout",
     "output_type": "stream",
     "text": [
      "epoch      trn_loss   val_loss   accuracy                     \n",
      "    0      4.866224   4.736622   0.236569  \n",
      "\n"
     ]
    }
   ],
   "source": [
    "learner.lr_find(start_lr=lrs/10, end_lr=lrs*10, linear=True)"
   ]
  },
  {
   "cell_type": "code",
   "execution_count": 28,
   "metadata": {
    "collapsed": true
   },
   "outputs": [
    {
     "data": {
      "image/png": "[encoded data removed]",
      "text/plain": [
       "<Figure size 432x288 with 1 Axes>"
      ]
     },
     "metadata": {},
     "output_type": "display_data"
    }
   ],
   "source": [
    "learner.sched.plot()"
   ]
  },
  {
   "cell_type": "code",
   "execution_count": 22,
   "metadata": {
    "scrolled": false
   },
   "outputs": [
    {
     "data": {
      "application/vnd.jupyter.widget-view+json": {
       "model_id": "8795d346e02748f78ce46d5c87bff058",
       "version_major": 2,
       "version_minor": 0
      },
      "text/plain": [
       "A Jupyter Widget"
      ]
     },
     "metadata": {},
     "output_type": "display_data"
    },
    {
     "name": "stdout",
     "output_type": "stream",
     "text": [
      "epoch      trn_loss   val_loss   accuracy                     \n",
      "    0      4.332359   4.120674   0.289563  \n",
      "    1      4.247177   4.067932   0.294281                     \n",
      "    2      4.175848   4.027153   0.298062                     \n",
      "    3      4.140306   4.001291   0.300798                     \n",
      "    4      4.112395   3.98392    0.302663                     \n",
      "    5      4.078948   3.971053   0.304059                     \n",
      "    6      4.06956    3.958152   0.305356                     \n",
      "    7      4.025542   3.951509   0.306309                     \n",
      "    8      4.019778   3.94065    0.30756                      \n",
      "    9      4.027846   3.931385   0.308232                     \n",
      "    10     3.98106    3.928427   0.309011                     \n",
      "    11     3.97106    3.920667   0.30989                      \n",
      "    12     3.941096   3.917029   0.310515                     \n",
      "    13     3.924818   3.91302    0.311015                     \n",
      "    14     3.923296   3.908476   0.311586                     \n",
      "\n"
     ]
    },
    {
     "data": {
      "text/plain": [
       "[3.9084756, 0.3115861900150776]"
      ]
     },
     "execution_count": 22,
     "metadata": {},
     "output_type": "execute_result"
    }
   ],
   "source": [
    "learner.fit(lrs, 1, wds=wd, use_clr=(20,10), cycle_len=15)"
   ]
  },
  {
   "cell_type": "markdown",
   "metadata": {},
   "source": [
    "We save the trained model weights and separately save the encoder part of the LM model as well. This will serve as our backbone in the classification task model."
   ]
  },
  {
   "cell_type": "code",
   "execution_count": 23,
   "metadata": {},
   "outputs": [],
   "source": [
    "learner.save('lm1')"
   ]
  },
  {
   "cell_type": "code",
   "execution_count": 23,
   "metadata": {},
   "outputs": [],
   "source": [
    "learner.save_encoder('lm1_enc')"
   ]
  },
  {
   "cell_type": "code",
   "execution_count": 24,
   "metadata": {},
   "outputs": [
    {
     "data": {
      "image/png": "[encoded data removed]",
      "text/plain": [
       "<Figure size 432x288 with 1 Axes>"
      ]
     },
     "metadata": {},
     "output_type": "display_data"
    }
   ],
   "source": [
    "learner.sched.plot_loss()"
   ]
  },
  {
   "cell_type": "code",
   "execution_count": null,
   "metadata": {},
   "outputs": [],
   "source": []
  }
 ],
 "metadata": {
  "kernelspec": {
   "display_name": "Python 3",
   "language": "python",
   "name": "python3"
  },
  "language_info": {
   "codemirror_mode": {
    "name": "ipython",
    "version": 3
   },
   "file_extension": ".py",
   "mimetype": "text/x-python",
   "name": "python",
   "nbconvert_exporter": "python",
   "pygments_lexer": "ipython3",
   "version": "3.6.5"
  }
 },
 "nbformat": 4,
 "nbformat_minor": 2
}
